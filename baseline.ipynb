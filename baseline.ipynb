{
 "cells": [
  {
   "cell_type": "markdown",
   "metadata": {},
   "source": [
    "# EM shower reconstruction with the SciFi at SND@LHC\n",
    "\n",
    "1. __make sure the preprocessing has already been done__\n",
    "\n",
    "2. __make sure `results` folder exists__\n",
    "\n",
    "\n",
    "based on https://github.com/pauldebryas/SND_trackers_My_data/tree/SNDatLHC_neutrino"
   ]
  },
  {
   "cell_type": "code",
   "execution_count": 1,
   "metadata": {},
   "outputs": [
    {
     "name": "stdout",
     "output_type": "stream",
     "text": [
      "Welcome to JupyROOT 6.18/00\n"
     ]
    }
   ],
   "source": [
    "# imports from utils.py & net.py\n",
    "from utils import DataPreprocess, Parameters\n",
    "from net import SNDNet, BNN, MyDataset, digitize_signal, digitize_signal_1d\n",
    "\n",
    "# python\n",
    "import numpy as np\n",
    "import pandas as pd\n",
    "import matplotlib as mpl\n",
    "from matplotlib import pylab as plt\n",
    "import time\n",
    "from tqdm import tqdm\n",
    "from IPython import display\n",
    "\n",
    "# system\n",
    "import os\n",
    "import gc  # Gabage collector interface (to debug stuff)\n",
    "import sys\n",
    "\n",
    "# ml\n",
    "from sklearn.model_selection import train_test_split\n",
    "from sklearn.metrics import mean_squared_error\n",
    "\n",
    "# dl\n",
    "import torch\n",
    "import torch.nn as nn\n",
    "\n",
    "# bayesian\n",
    "import pyro\n",
    "import pyro.distributions as dist\n",
    "from pyro.nn import PyroModule, PyroSample\n",
    "from pyro.infer.autoguide import AutoDiagonalNormal\n",
    "from pyro.infer import SVI, Trace_ELBO, Predictive"
   ]
  },
  {
   "cell_type": "code",
   "execution_count": 2,
   "metadata": {},
   "outputs": [
    {
     "name": "stdout",
     "output_type": "stream",
     "text": [
      "CUDA devices available:\n",
      "\tQuadro P2200\twith CUDA capability (6, 1)\n"
     ]
    }
   ],
   "source": [
    "# Test to see if cuda is available or not + listed the CUDA devices that are available\n",
    "try:\n",
    "    assert(torch.cuda.is_available())\n",
    "except:\n",
    "    raise Exception(\"CUDA is not available\")\n",
    "    \n",
    "n_devices = torch.cuda.device_count()\n",
    "print(\"CUDA devices available:\")\n",
    "\n",
    "for i in range(n_devices):\n",
    "    print(\"\\t{}\\twith CUDA capability {}\".format(torch.cuda.get_device_name      (device=i), \n",
    "                                                 torch.cuda.get_device_capability(device=i)))\n",
    "\n",
    "device = torch.device(\"cuda\", 0)"
   ]
  },
  {
   "cell_type": "code",
   "execution_count": 3,
   "metadata": {},
   "outputs": [],
   "source": [
    "# Turn off interactive plotting: for long run it screws up everything\n",
    "plt.ioff()"
   ]
  },
  {
   "cell_type": "code",
   "execution_count": 4,
   "metadata": {},
   "outputs": [],
   "source": [
    "DETECTOR_PARAMS = Parameters(\"SNDatLHC\")\n",
    "PATH_CCDIS = \"$HOME/snd_data/processed_data/CCDIS\"\n",
    "PATH_NUEEL = \"$HOME/snd_data/processed_data/NuEElastic\"\n",
    "\n",
    "# number of planes of the detector\n",
    "NB_PLANE = len(DETECTOR_PARAMS.snd_params[DETECTOR_PARAMS.configuration][\"TT_POSITIONS\"])"
   ]
  },
  {
   "cell_type": "markdown",
   "metadata": {},
   "source": [
    "## Data processing\n",
    "\n",
    "Here we load and process __pickle__ files. "
   ]
  },
  {
   "cell_type": "code",
   "execution_count": 5,
   "metadata": {},
   "outputs": [],
   "source": [
    "def read_chunklist(proc_file_path, step_size, file_size):\n",
    "    # step_size = size of a chunk\n",
    "    # file_size = size of the CCDIS BigFile\n",
    "\n",
    "    n_steps = int(file_size / step_size) # number of chunks\n",
    "\n",
    "    chunklist_TT_df  = [] # list of the TT_df file of each chunk\n",
    "    chunklist_y_full = [] # list of the y_full file of each chunk\n",
    "    \n",
    "    # first 2 \n",
    "    for i in range(2):\n",
    "        outpath = proc_file_path + \"/{}\".format(i)\n",
    "        chunklist_TT_df .append(pd.read_pickle(os.path.join(outpath, \"tt_cleared.pkl\")))\n",
    "        chunklist_y_full.append(pd.read_pickle(os.path.join(outpath, \"y_cleared.pkl\")))\n",
    "\n",
    "    reindex_TT_df  = pd.concat([chunklist_TT_df[0],\n",
    "                                chunklist_TT_df[1]],  ignore_index=True)\n",
    "    reindex_y_full = pd.concat([chunklist_y_full[0],\n",
    "                                chunklist_y_full[1]], ignore_index=True)\n",
    "\n",
    "    print(\"Before Reduction (file \" + proc_file_path + \"):\")\n",
    "\n",
    "    # other n-2\n",
    "    for i in range(n_steps-2):\n",
    "        outpath = proc_file_path + \"/{}\".format(i+2)\n",
    "        \n",
    "        # add all the tt_cleared.pkl files read_pickle and add to the chunklist_TT_df list\n",
    "        chunklist_TT_df.append(pd.read_pickle(os.path.join(outpath, \"tt_cleared.pkl\")))\n",
    "        \n",
    "        # add all the y_cleared.pkl files read_pickle and add to the chunklist_y_full list\n",
    "        chunklist_y_full.append(pd.read_pickle(os.path.join(outpath, \"y_cleared.pkl\")))\n",
    "        \n",
    "        reindex_TT_df  = pd.concat([reindex_TT_df,  \n",
    "                                          chunklist_TT_df[i+2]], ignore_index=True)\n",
    "        reindex_y_full = pd.concat([reindex_y_full, \n",
    "                                    chunklist_y_full[i+2]], ignore_index=True)\n",
    "    \n",
    "    print(\"  TT_df  inelastic: \" + str(len(reindex_TT_df)))\n",
    "    print(\"  y_full inelastic: \" + str(len(reindex_y_full)))\n",
    "\n",
    "    return reindex_TT_df, reindex_y_full"
   ]
  },
  {
   "cell_type": "code",
   "execution_count": 6,
   "metadata": {},
   "outputs": [],
   "source": [
    "def load_dataframes(params, path_ccdis, path_nueel):\n",
    "    \n",
    "    # Here we choose the geometry with 9 time the radiation length\n",
    "    proc_path_ccdis = os.path.expandvars(path_ccdis)\n",
    "    proc_path_nueel = os.path.expandvars(path_nueel)\n",
    "    \n",
    "    # --- LOAD THE reindex_TT_df & reindex_y_full PD.DATAFRAME ---\n",
    "\n",
    "    # It is reading and analysing data by chunk instead of all at the time (memory leak problem)\n",
    "    print(\"\\nReading the tt_cleared.pkl & y_cleared.pkl files by chunk of CCDIS and NueEElastic\")\n",
    "    \n",
    "    reidx_TT_df  = dict()\n",
    "    reidx_y_full = dict()\n",
    "    \n",
    "    reidx_TT_df['ccdis'], reidx_y_full['ccdis'] = read_chunklist(proc_path_ccdis, 10**3, 400000) # CCDIS\n",
    "    reidx_TT_df['nueel'], reidx_y_full['nueel'] = read_chunklist(proc_path_nueel, 10**3, 399000) # NueEElastic\n",
    "    \n",
    "    return reidx_TT_df, reidx_y_full"
   ]
  },
  {
   "cell_type": "code",
   "execution_count": 7,
   "metadata": {},
   "outputs": [],
   "source": [
    "def balance_events_num(reindex_TT_df, reindex_y_full):\n",
    "    # Selecting events to ensure equal number of elastic and inelastic events\n",
    "    event_limit = min(len(reindex_TT_df['ccdis']),\n",
    "                      len(reindex_y_full['nueel']))\n",
    "\n",
    "    for part_type in ['ccdis', 'nueel']:\n",
    "        remove = int(len(reindex_TT_df[part_type]) - event_limit) + 1\n",
    "        reindex_TT_df [part_type] = reindex_TT_df [part_type][:-remove]\n",
    "        reindex_y_full[part_type] = reindex_y_full[part_type][:-remove]\n",
    "    \n",
    "    return reindex_TT_df, reindex_y_full"
   ]
  },
  {
   "cell_type": "code",
   "execution_count": 8,
   "metadata": {},
   "outputs": [],
   "source": [
    "def merge_events_arrays(reindex_TT_df, reindex_y_full):\n",
    "    # Merging CCDIS and NueEElastic in a single array\n",
    "    combined_TT_df  = pd.concat([reindex_TT_df ['ccdis'], \n",
    "                                 reindex_TT_df ['nueel']], ignore_index=True)\n",
    "    combined_y_full = pd.concat([reindex_y_full['ccdis'], \n",
    "                                 reindex_y_full['nueel']], ignore_index=True)\n",
    "    \n",
    "    print(\"After Reduction  :\\n\")\n",
    "\n",
    "    for part_type in ['ccdis', 'nueel']:\n",
    "        print(\"Particle type: \" + part_type)\n",
    "        print(\"  TT_df  inelastic: \" + str(len(reindex_TT_df [part_type])))\n",
    "        print(\"  y_full inelastic: \" + str(len(reindex_y_full[part_type])))\n",
    "\n",
    "    print()\n",
    "    print(\"Combined TT_df : \" + str(len(combined_TT_df)))\n",
    "    print(\"Combined y_full: \" + str(len(combined_y_full)))\n",
    "    \n",
    "    return combined_TT_df, combined_y_full"
   ]
  },
  {
   "cell_type": "code",
   "execution_count": 9,
   "metadata": {},
   "outputs": [],
   "source": [
    "def normalise_target_energy(reindex_y_full):\n",
    "    # True value of NRJ for each true Nue event\n",
    "    NORM = 1. / 4000\n",
    "    reindex_y_full[[\"E\"]] *= NORM\n",
    "    return reindex_y_full"
   ]
  },
  {
   "cell_type": "code",
   "execution_count": 10,
   "metadata": {},
   "outputs": [],
   "source": [
    "#reidx_TT_df, reidx_y_full = load_dataframes(DETECTOR_PARAMS, PATH_CCDIS, PATH_NUEEL)"
   ]
  },
  {
   "cell_type": "code",
   "execution_count": 11,
   "metadata": {},
   "outputs": [],
   "source": [
    "#reidx_TT_df, reidx_y_full = balance_events_num (reidx_TT_df, reidx_y_full)"
   ]
  },
  {
   "cell_type": "code",
   "execution_count": 12,
   "metadata": {},
   "outputs": [],
   "source": [
    "#merged_TT_df, merged_y_full = merge_events_arrays(reidx_TT_df, reidx_y_full)"
   ]
  },
  {
   "cell_type": "code",
   "execution_count": 13,
   "metadata": {},
   "outputs": [],
   "source": [
    "#merged_y_full = normalise_target_energy(merged_y_full)"
   ]
  },
  {
   "cell_type": "code",
   "execution_count": 14,
   "metadata": {},
   "outputs": [],
   "source": [
    "def read_pickled_df(detector_params, path_ccdis, path_nueel):\n",
    "    reidx_TT_df, reidx_y_full = load_dataframes(detector_params, path_ccdis, path_nueel)\n",
    "    reidx_TT_df, reidx_y_full = balance_events_num(reidx_TT_df, reidx_y_full)\n",
    "    merged_TT_df, merged_y_full = merge_events_arrays(reidx_TT_df, reidx_y_full)\n",
    "    \n",
    "    merged_y_full = normalise_target_energy(merged_y_full)\n",
    "    \n",
    "    return merged_TT_df, merged_y_full"
   ]
  },
  {
   "cell_type": "markdown",
   "metadata": {},
   "source": [
    "## Data preparation\n",
    "\n",
    "Here we prepare (load or, if needed, create) the datasets."
   ]
  },
  {
   "cell_type": "code",
   "execution_count": 15,
   "metadata": {},
   "outputs": [],
   "source": [
    "SGN_DGT_MODE_NAMES = ['sum', 'longitudal', 'projection', 'plane']\n",
    "SGN_DGT_MODES = dict(zip(SGN_DGT_MODE_NAMES, \n",
    "                         np.arange(len(SGN_DGT_MODE_NAMES))))\n",
    "# 0d - sum of all vals = 1 number, for baseline\n",
    "# 1d - (z) = sum for each z, for advanced baseline\n",
    "# 2d - (x,z)(y,z) variation = projections ala tomography, for release (no ghost hits)\n",
    "# 3d - (x,y) variation, for conv testing\n",
    "\n",
    "\n",
    "def make_dataset(pickled_TT_df, pickled_y_df, detector_params,\n",
    "                 used_data_coef  = 1., \n",
    "                 sgn_dgt_mode    = SGN_DGT_MODES['sum']):\n",
    "\n",
    "    assert len(pickled_TT_df) == len(pickled_y_df)\n",
    "    assert used_data_coef > 0.\n",
    "    assert used_data_coef <= 1.\n",
    "\n",
    "    full_data_size = len(pickled_TT_df)\n",
    "\n",
    "    # select subset of available data to make debug training faster\n",
    "    data_size = int(used_data_coef * full_data_size)\n",
    "    \n",
    "    # normalised energies array cast to numpy and subset taken\n",
    "    y_arr = pickled_y_df[\"E\"].to_numpy()[:data_size]\n",
    "\n",
    "    # create simplistic dataset (sum pixels in (x,y) representation)\n",
    "    X_arr = []\n",
    "\n",
    "    nb_of_plane = len(detector_params.snd_params[detector_params.configuration][\"TT_POSITIONS\"])\n",
    "    \n",
    "    for i in tqdm(range(data_size)):\n",
    "        # xy variation\n",
    "        \n",
    "        shower_stat = None\n",
    "\n",
    "        xy_plane = digitize_signal(pickled_TT_df.iloc[i], detector_params, filters = nb_of_plane)\n",
    "        \n",
    "        if   sgn_dgt_mode == SGN_DGT_MODES['plane']:\n",
    "            shower_stat = xy_plane\n",
    "        \n",
    "        elif sgn_dgt_mode == SGN_DGT_MODES['projection']:\n",
    "            xz = xy_plane.sum(axis=1)\n",
    "            yz = xy_plane.sum(axis=2)\n",
    "            \n",
    "            shower_stat = np.concatenate((xz, yz), axis=1)\n",
    "\n",
    "        elif sgn_dgt_mode == SGN_DGT_MODES['longitudal']:\n",
    "            shower_stat = xy_plane.sum(axis=(1,2))\n",
    "\n",
    "        elif sgn_dgt_mode == SGN_DGT_MODES['sum']:\n",
    "            shower_stat = xy_plane.sum()\n",
    "        \n",
    "        else:\n",
    "            raise Exception(\"Unknown signal digitization mode\")\n",
    "\n",
    "        X_arr.append(shower_stat)\n",
    "\n",
    "    X_arr = np.array(X_arr)\n",
    "\n",
    "    return X_arr, y_arr"
   ]
  },
  {
   "cell_type": "code",
   "execution_count": 16,
   "metadata": {},
   "outputs": [],
   "source": [
    "def save_dataset(full_X, full_y, fname):\n",
    "    with open(fname, 'wb') as file:\n",
    "        np.savez(file, x=full_X, y=full_y)        \n",
    "    return"
   ]
  },
  {
   "cell_type": "code",
   "execution_count": 19,
   "metadata": {},
   "outputs": [],
   "source": [
    "def create_dataset(mode, detector_params, path_ccdis, path_nueel,\n",
    "                   used_data_coef = 1.0):\n",
    "    \n",
    "    merged_TT_df, merged_y_full = read_pickled_df(detector_params, path_ccdis, path_nueel)\n",
    "\n",
    "    assert mode in SGN_DGT_MODE_NAMES\n",
    "    print(mode)\n",
    "        \n",
    "    dataset_fname = 'dataset_' + mode + '.npz'\n",
    "\n",
    "    full_X, full_y = make_dataset(merged_TT_df, merged_y_full, DETECTOR_PARAMS,\n",
    "                                  used_data_coef = used_data_coef,\n",
    "                                  sgn_dgt_mode = SGN_DGT_MODES[mode])\n",
    "\n",
    "    save_dataset(full_X, full_y, dataset_fname)\n",
    "        \n",
    "    return"
   ]
  },
  {
   "cell_type": "code",
   "execution_count": 20,
   "metadata": {},
   "outputs": [],
   "source": [
    "# create_dataset('sum', DETECTOR_PARAMS, PATH_CCDIS, PATH_NUEEL)"
   ]
  },
  {
   "cell_type": "code",
   "execution_count": 21,
   "metadata": {},
   "outputs": [],
   "source": [
    "# create_dataset('longitudal', DETECTOR_PARAMS, PATH_CCDIS, PATH_NUEEL)"
   ]
  },
  {
   "cell_type": "code",
   "execution_count": 22,
   "metadata": {},
   "outputs": [],
   "source": [
    "# create_dataset('projection', DETECTOR_PARAMS, PATH_CCDIS, PATH_NUEEL)"
   ]
  },
  {
   "cell_type": "code",
   "execution_count": 44,
   "metadata": {},
   "outputs": [],
   "source": [
    "# memory troubles!\n",
    "# create_dataset('plane', DETECTOR_PARAMS, PATH_CCDIS, PATH_NUEEL)"
   ]
  },
  {
   "cell_type": "code",
   "execution_count": 25,
   "metadata": {},
   "outputs": [],
   "source": [
    "def load_dataset(mode='sum'):\n",
    "    assert mode in SGN_DGT_MODE_NAMES\n",
    "    \n",
    "    dataset_fname = 'dataset_' + mode + '.npz'\n",
    "\n",
    "    full_X, full_y = None, None\n",
    "\n",
    "    if os.path.isfile(dataset_fname) == False:\n",
    "        create_dataset(mode, DETECTOR_PARAMS, PATH_CCDIS, PATH_NUEEL)\n",
    "\n",
    "    else:    \n",
    "        # load if exists\n",
    "        full_dts = None\n",
    "\n",
    "        with open(dataset_fname, 'rb') as file:\n",
    "            full_dts = np.load(file)#, allow_pickle=True)\n",
    "            \n",
    "            full_X = full_dts['x']\n",
    "            full_y = full_dts['y']\n",
    "        \n",
    "    return full_X, full_y"
   ]
  },
  {
   "cell_type": "code",
   "execution_count": 26,
   "metadata": {},
   "outputs": [],
   "source": [
    "full_X, full_y = load_dataset('sum')"
   ]
  },
  {
   "cell_type": "code",
   "execution_count": 27,
   "metadata": {},
   "outputs": [],
   "source": [
    "data_size = full_X.shape[0]\n",
    "\n",
    "# Train test split\n",
    "TRAIN_SIZE_RATIO = 0.9\n",
    "RANDOM_SEED = 1543\n",
    "\n",
    "all_idx = np.arange(0, data_size)\n",
    "\n",
    "train_idx, test_idx, _, _ = train_test_split(all_idx, all_idx, \n",
    "                                             train_size=TRAIN_SIZE_RATIO, \n",
    "                                             random_state=RANDOM_SEED)\n",
    "\n",
    "train_size = len(train_idx)\n",
    "test_size  = len(test_idx)"
   ]
  },
  {
   "cell_type": "code",
   "execution_count": 28,
   "metadata": {},
   "outputs": [],
   "source": [
    "full_X = full_X.reshape(-1, 1)\n",
    "full_y = full_y.reshape(-1, 1)"
   ]
  },
  {
   "cell_type": "code",
   "execution_count": 29,
   "metadata": {},
   "outputs": [],
   "source": [
    "X_train = full_X[train_idx]\n",
    "y_train = full_y[train_idx]\n",
    "\n",
    "X_test = full_X[test_idx]\n",
    "y_test = full_y[test_idx]"
   ]
  },
  {
   "cell_type": "markdown",
   "metadata": {},
   "source": [
    "## Linear regression baseline"
   ]
  },
  {
   "cell_type": "markdown",
   "metadata": {},
   "source": [
    "### Train"
   ]
  },
  {
   "cell_type": "code",
   "execution_count": 30,
   "metadata": {},
   "outputs": [],
   "source": [
    "from sklearn.linear_model import LinearRegression\n",
    "from sklearn.linear_model import Lasso"
   ]
  },
  {
   "cell_type": "code",
   "execution_count": 31,
   "metadata": {},
   "outputs": [
    {
     "name": "stdout",
     "output_type": "stream",
     "text": [
      "L2:  0.061602172943386775\n",
      "L1:  0.06159146316771591\n"
     ]
    }
   ],
   "source": [
    "reg_l2 = LinearRegression()   .fit(X_train, y_train) # positive=True ???\n",
    "reg_l1 = Lasso(positive=False).fit(X_train, y_train) # positive=True ???\n",
    "\n",
    "score_l2 = reg_l2.score(X_train, y_train)\n",
    "score_l1 = reg_l1.score(X_train, y_train)\n",
    "\n",
    "print('L2: ', score_l2)\n",
    "print('L1: ', score_l1)\n",
    "\n",
    "y_pred_l2 = reg_l2.predict(X_train)\n",
    "y_pred_l1 = reg_l1.predict(X_train)"
   ]
  },
  {
   "cell_type": "code",
   "execution_count": 32,
   "metadata": {},
   "outputs": [
    {
     "name": "stdout",
     "output_type": "stream",
     "text": [
      "30 percentile min clip  158.0\n"
     ]
    }
   ],
   "source": [
    "# in this variation we cut off data with low number of nonzero pixels\n",
    "# since, as we see below, true energy for those examples can have any value\n",
    "\n",
    "CLIP_PERC = 30\n",
    "min_clip = np.percentile(X_train, CLIP_PERC)\n",
    "print(str(CLIP_PERC) + ' percentile min clip ', min_clip)\n",
    "\n",
    "clip_idx = np.where(X_train > min_clip)\n",
    "\n",
    "X_train_clip = X_train[clip_idx].reshape(-1, 1)\n",
    "y_train_clip = y_train[clip_idx].reshape(-1, 1)\n",
    "\n",
    "reg_l2.fit(X_train_clip, y_train_clip)\n",
    "reg_l1.fit(X_train_clip, y_train_clip)\n",
    "\n",
    "y_pred_l2_clip = reg_l2.predict(X_train_clip)\n",
    "y_pred_l1_clip = reg_l1.predict(X_train_clip)"
   ]
  },
  {
   "cell_type": "code",
   "execution_count": 33,
   "metadata": {},
   "outputs": [
    {
     "data": {
      "image/png": "[encoded data removed]",
      "text/plain": [
       "<Figure size 576x432 with 2 Axes>"
      ]
     },
     "metadata": {
      "needs_background": "light"
     },
     "output_type": "display_data"
    }
   ],
   "source": [
    "fig, ax = plt.subplots(figsize=(8,6))\n",
    "\n",
    "hist = ax.hist2d(full_X[:, 0], full_y[:, 0], \n",
    "                 bins=100, \n",
    "                 norm=mpl.colors.LogNorm(), \n",
    "                 vmax=150)\n",
    "\n",
    "plt.xlabel('pixel sum')\n",
    "plt.ylabel('normalised energy')\n",
    "\n",
    "cbar = fig.colorbar(hist[3], ax=ax)\n",
    "cbar.set_label('# of particles')\n",
    "\n",
    "plt.show()"
   ]
  },
  {
   "cell_type": "code",
   "execution_count": 34,
   "metadata": {},
   "outputs": [
    {
     "data": {
      "image/png": "[encoded data removed]",
      "text/plain": [
       "<Figure size 576x432 with 2 Axes>"
      ]
     },
     "metadata": {
      "needs_background": "light"
     },
     "output_type": "display_data"
    }
   ],
   "source": [
    "fig, ax = plt.subplots(figsize=(8,6))\n",
    "\n",
    "idx = np.where(full_X < 300)\n",
    "\n",
    "hist = ax.hist2d(full_X[idx], \n",
    "                 full_y[idx], \n",
    "                 bins=(50,50), \n",
    "                 norm=mpl.colors.LogNorm(), \n",
    "                 vmax=150)\n",
    "\n",
    "plt.xlabel('pixel sum')\n",
    "plt.ylabel('normalised energy')\n",
    "\n",
    "cbar = fig.colorbar(hist[3], ax=ax)\n",
    "cbar.set_label('# of particles')\n",
    "\n",
    "plt.show()"
   ]
  },
  {
   "cell_type": "code",
   "execution_count": 35,
   "metadata": {},
   "outputs": [
    {
     "data": {
      "image/png": "[encoded data removed]",
      "text/plain": [
       "<Figure size 576x432 with 2 Axes>"
      ]
     },
     "metadata": {
      "needs_background": "light"
     },
     "output_type": "display_data"
    }
   ],
   "source": [
    "fig, ax = plt.subplots(figsize=(8,6))\n",
    "\n",
    "hist = ax.hist2d(X_train[:, 0], y_train[:, 0], \n",
    "                 bins=100,\n",
    "                 norm=mpl.colors.LogNorm(), \n",
    "                 vmax=150)\n",
    "plt.xlabel('pixel sum')\n",
    "plt.ylabel('normalised energy')\n",
    "\n",
    "plt.axvline(x=min_clip, c='m', alpha=0.9, label='Min clip ' + str(CLIP_PERC) + '%')\n",
    "\n",
    "#ax.plot(X_train, y_pred_l1, 'w', alpha=0.9, label='L1 regressor')\n",
    "ax.plot(X_train, y_pred_l2, 'r', alpha=0.9, label='L2 regressor')\n",
    "#ax.plot(X_train_clip, y_pred_l1_clip, 'w', alpha=0.9, label='L1 clip')\n",
    "ax.plot(X_train_clip, y_pred_l2_clip, 'deeppink', alpha=0.9, label='L2 w. clipped data')\n",
    "\n",
    "ax.plot(X_train, X_train / 28000., '--', c='black', alpha=0.9, label='Possible constraint')\n",
    "ax.plot(X_train, np.full(X_train.shape, 0.825), '--', c='black', alpha=0.9, label='Possible constraint')\n",
    "\n",
    "cbar = fig.colorbar(hist[3], ax=ax)\n",
    "cbar.set_label('# of particles')\n",
    "\n",
    "plt.legend(loc='lower right')\n",
    "plt.show()"
   ]
  },
  {
   "cell_type": "code",
   "execution_count": 36,
   "metadata": {},
   "outputs": [
    {
     "name": "stdout",
     "output_type": "stream",
     "text": [
      "Pixel sums in (x,y) representation\n",
      "\n"
     ]
    },
    {
     "data": {
      "image/png": "[encoded data removed]",
      "text/plain": [
       "<Figure size 432x288 with 1 Axes>"
      ]
     },
     "metadata": {
      "needs_background": "light"
     },
     "output_type": "display_data"
    }
   ],
   "source": [
    "#clip_size = np.where(X_train <= min_clip)[0].shape[0]\n",
    "#print('Cuts', clip_size / train_size * 100., '% of the dataset')\n",
    "\n",
    "print(\"Pixel sums in (x,y) representation\\n\")\n",
    "plt.hist(X_train, bins=50)\n",
    "\n",
    "plt.axvline(x=min_clip, c='r', label='Min clip ' + str(CLIP_PERC) + '%')\n",
    "\n",
    "plt.xlabel('pixel sum')\n",
    "plt.ylabel('# of occurances')\n",
    "plt.legend()\n",
    "plt.show()"
   ]
  },
  {
   "cell_type": "code",
   "execution_count": 37,
   "metadata": {},
   "outputs": [
    {
     "name": "stdout",
     "output_type": "stream",
     "text": [
      "Normalised true energies\n",
      "\n"
     ]
    },
    {
     "data": {
      "image/png": "[encoded data removed]",
      "text/plain": [
       "<Figure size 432x288 with 1 Axes>"
      ]
     },
     "metadata": {
      "needs_background": "light"
     },
     "output_type": "display_data"
    }
   ],
   "source": [
    "print(\"Normalised true energies\\n\")\n",
    "plt.hist(y_train, bins=80)\n",
    "plt.xlabel('energy (normalised)')\n",
    "plt.ylabel('# of occurances')\n",
    "plt.show()"
   ]
  },
  {
   "cell_type": "code",
   "execution_count": 38,
   "metadata": {},
   "outputs": [
    {
     "name": "stdout",
     "output_type": "stream",
     "text": [
      "Pixel sums in (x,y) representation\n",
      "\n"
     ]
    },
    {
     "data": {
      "image/png": "[encoded data removed]",
      "text/plain": [
       "<Figure size 432x288 with 1 Axes>"
      ]
     },
     "metadata": {
      "needs_background": "light"
     },
     "output_type": "display_data"
    }
   ],
   "source": [
    "print(\"Pixel sums in (x,y) representation\\n\")\n",
    "plt.hist(X_train, bins=100, log=True)\n",
    "\n",
    "plt.axvline(x=min_clip, c='r', label='Min clip ' + str(CLIP_PERC) + '%')\n",
    "\n",
    "plt.xlabel('pixel sum')\n",
    "plt.ylabel('# of occurances')\n",
    "plt.legend()\n",
    "plt.show()"
   ]
  },
  {
   "cell_type": "code",
   "execution_count": 39,
   "metadata": {},
   "outputs": [
    {
     "name": "stdout",
     "output_type": "stream",
     "text": [
      "Normalised true energies\n",
      "\n"
     ]
    },
    {
     "data": {
      "image/png": "[encoded data removed]",
      "text/plain": [
       "<Figure size 432x288 with 1 Axes>"
      ]
     },
     "metadata": {
      "needs_background": "light"
     },
     "output_type": "display_data"
    }
   ],
   "source": [
    "print(\"Normalised true energies\\n\")\n",
    "plt.hist(y_train, bins=80, log=True)\n",
    "plt.xlabel('energy (normalised)')\n",
    "plt.ylabel('# of occurances')\n",
    "plt.show()"
   ]
  },
  {
   "cell_type": "markdown",
   "metadata": {},
   "source": [
    "### Test"
   ]
  },
  {
   "cell_type": "code",
   "execution_count": 40,
   "metadata": {},
   "outputs": [],
   "source": [
    "y_pred_l2 = reg_l2.predict(X_test)\n",
    "\n",
    "delta = y_pred_l2 - y_test\n",
    "rel_delta = np.divide(delta, y_test)"
   ]
  },
  {
   "cell_type": "code",
   "execution_count": 41,
   "metadata": {},
   "outputs": [
    {
     "data": {
      "image/png": "[encoded data removed]",
      "text/plain": [
       "<Figure size 576x432 with 2 Axes>"
      ]
     },
     "metadata": {
      "needs_background": "light"
     },
     "output_type": "display_data"
    }
   ],
   "source": [
    "fig, ax = plt.subplots(figsize=(8,6))\n",
    "\n",
    "hist = ax.hist2d(X_test[:, 0], y_test[:, 0], \n",
    "                 bins=100,\n",
    "                 norm=mpl.colors.LogNorm(), \n",
    "                 vmax=150)\n",
    "plt.xlabel('pixel sum')\n",
    "plt.ylabel('normalised energy')\n",
    "\n",
    "plt.axvline(x=min_clip, c='m', alpha=0.9, label='Min clip ' + str(CLIP_PERC) + '%')\n",
    "\n",
    "ax.plot(X_test, y_pred_l2, 'r', alpha=0.9, label='L2 regressor')\n",
    "\n",
    "cbar = fig.colorbar(hist[3], ax=ax)\n",
    "cbar.set_label('# of particles')\n",
    "\n",
    "plt.legend(loc='lower right')\n",
    "plt.show()"
   ]
  },
  {
   "cell_type": "code",
   "execution_count": 42,
   "metadata": {},
   "outputs": [
    {
     "data": {
      "image/png": "[encoded data removed]",
      "text/plain": [
       "<Figure size 576x432 with 1 Axes>"
      ]
     },
     "metadata": {
      "needs_background": "light"
     },
     "output_type": "display_data"
    }
   ],
   "source": [
    "fig, ax = plt.subplots(figsize=(8,6))\n",
    "\n",
    "hist = ax.hist2d(X_test[:, 0], rel_delta[:, 0], \n",
    "                 bins=100,\n",
    "                 norm=mpl.colors.LogNorm(), \n",
    "                 vmax=150)\n",
    "\n",
    "plt.xlabel('pixel sum')\n",
    "plt.ylabel(r'$(E_{reco} - E_{true})~/~E_{true}$')\n",
    "plt.grid()\n",
    "plt.show()"
   ]
  },
  {
   "cell_type": "code",
   "execution_count": 43,
   "metadata": {},
   "outputs": [
    {
     "name": "stdout",
     "output_type": "stream",
     "text": [
      "Mean delta after the cut 0.3800802837325974\n"
     ]
    }
   ],
   "source": [
    "print('Mean delta after the cut', rel_delta[np.where(X_test > min_clip)[0]].mean())"
   ]
  },
  {
   "cell_type": "code",
   "execution_count": null,
   "metadata": {},
   "outputs": [],
   "source": []
  }
 ],
 "metadata": {
  "kernelspec": {
   "display_name": "Python 3",
   "language": "python",
   "name": "python3"
  },
  "language_info": {
   "codemirror_mode": {
    "name": "ipython",
    "version": 3
   },
   "file_extension": ".py",
   "mimetype": "text/x-python",
   "name": "python",
   "nbconvert_exporter": "python",
   "pygments_lexer": "ipython3",
   "version": "3.7.4"
  }
 },
 "nbformat": 4,
 "nbformat_minor": 4
}
