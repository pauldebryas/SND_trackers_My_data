{
 "cells": [
  {
   "cell_type": "markdown",
   "metadata": {},
   "source": [
    "# Stochastic NN on full sum"
   ]
  },
  {
   "cell_type": "code",
   "execution_count": 1,
   "metadata": {},
   "outputs": [],
   "source": [
    "import numpy as np\n",
    "from matplotlib import pylab as plt"
   ]
  },
  {
   "cell_type": "code",
   "execution_count": 2,
   "metadata": {},
   "outputs": [
    {
     "name": "stdout",
     "output_type": "stream",
     "text": [
      "Welcome to JupyROOT 6.18/00\n"
     ]
    }
   ],
   "source": [
    "import src.operate_datasets    as operate_datasets\n",
    "import src.model_visualisation as model_visualisation\n",
    "import src.model_evaluation    as model_evaluation"
   ]
  },
  {
   "cell_type": "markdown",
   "metadata": {},
   "source": [
    "## Load data"
   ]
  },
  {
   "cell_type": "code",
   "execution_count": 3,
   "metadata": {},
   "outputs": [],
   "source": [
    "full_X, full_y = operate_datasets.load_dataset('~/snd_data/new_dataset/', 'sum')\n",
    "\n",
    "X_train, y_train, _, _ = operate_datasets.split_dataset(full_X, full_y)"
   ]
  },
  {
   "cell_type": "code",
   "execution_count": 4,
   "metadata": {},
   "outputs": [
    {
     "data": {
      "text/plain": [
       "(108000,)"
      ]
     },
     "execution_count": 4,
     "metadata": {},
     "output_type": "execute_result"
    }
   ],
   "source": [
    "X_train.shape"
   ]
  },
  {
   "cell_type": "code",
   "execution_count": 5,
   "metadata": {},
   "outputs": [],
   "source": [
    "X_train = X_train.reshape(-1, 1)\n",
    "#y_train = y_train.reshape(-1, 1)"
   ]
  },
  {
   "cell_type": "code",
   "execution_count": 6,
   "metadata": {},
   "outputs": [],
   "source": [
    "#min_clip = 500\n",
    "#X_train_clp, y_train_clp = operate_datasets.clip_dataset(X_train, y_train, min_clip)\n",
    "X_train_clp, y_train_clp = X_train, y_train"
   ]
  },
  {
   "cell_type": "markdown",
   "metadata": {},
   "source": [
    "## Fit model"
   ]
  },
  {
   "cell_type": "code",
   "execution_count": 7,
   "metadata": {},
   "outputs": [],
   "source": [
    "import torch\n",
    "from torch import nn\n",
    "import torch.nn.functional as F\n",
    "from torch.distributions import constraints\n",
    "from torch.optim.lr_scheduler import ReduceLROnPlateau\n",
    "\n",
    "import pyro\n",
    "import pyro.distributions as dist\n",
    "from pyro.nn import PyroModule, PyroSample\n",
    "from pyro.infer.autoguide import AutoDiagonalNormal\n",
    "from pyro.infer import SVI, Trace_ELBO, Predictive"
   ]
  },
  {
   "cell_type": "code",
   "execution_count": 8,
   "metadata": {},
   "outputs": [],
   "source": [
    "X_tens = torch.tensor(X_train_clp).float()\n",
    "y_tens = torch.tensor(y_train_clp).float()"
   ]
  },
  {
   "cell_type": "code",
   "execution_count": 9,
   "metadata": {},
   "outputs": [
    {
     "data": {
      "text/plain": [
       "torch.Size([108000, 1])"
      ]
     },
     "execution_count": 9,
     "metadata": {},
     "output_type": "execute_result"
    }
   ],
   "source": [
    "X_tens.shape"
   ]
  },
  {
   "cell_type": "code",
   "execution_count": 10,
   "metadata": {},
   "outputs": [],
   "source": [
    "class BNN(PyroModule):\n",
    "    def __init__(self, inp_dim, hid_dim):\n",
    "        super().__init__()\n",
    "        \n",
    "        self.fc1 = PyroModule[nn.Linear](inp_dim, hid_dim)\n",
    "        self.fc2 = PyroModule[nn.Linear](hid_dim, hid_dim)\n",
    "        self.fc3 = PyroModule[nn.Linear](hid_dim, 1)\n",
    "\n",
    "        # register random values that Pyro will work with\n",
    "        self.fc1.weight = PyroSample(dist.Normal(0., 1.).expand([hid_dim, inp_dim]).to_event(2))\n",
    "        self.fc1.bias   = PyroSample(dist.Normal(0., 1.).expand([hid_dim]).to_event(1))\n",
    "\n",
    "        self.fc2.weight = PyroSample(dist.Normal(0., 1.).expand([hid_dim, hid_dim]).to_event(2))\n",
    "        self.fc2.bias   = PyroSample(dist.Normal(0., 1.).expand([hid_dim]).to_event(1))\n",
    "\n",
    "        self.fc3.weight = PyroSample(dist.Normal(0., 1.).expand([1, hid_dim]).to_event(2))\n",
    "        self.fc3.bias   = PyroSample(dist.Normal(0., 1.).expand([1]).to_event(1))\n",
    "        return       \n",
    "\n",
    "\n",
    "    def forward(self, x, y):\n",
    "        x = F.leaky_relu(self.fc1(x))\n",
    "        x = F.leaky_relu(self.fc2(x))\n",
    "        mu = self.fc3(x).squeeze()\n",
    "\n",
    "        # Pyro's sampling\n",
    "        sigma = pyro.sample(\"sigma\", dist.Uniform(0., 1.))\n",
    "        \n",
    "        with pyro.plate(\"data\", x.shape[0]):\n",
    "            obs = pyro.sample(\"obs\", dist.Normal(mu, sigma), obs=y.squeeze())\n",
    "        \n",
    "        return mu"
   ]
  },
  {
   "cell_type": "code",
   "execution_count": 26,
   "metadata": {},
   "outputs": [],
   "source": [
    "def run_training(num_iter):\n",
    "    model = BNN(1, 8)    \n",
    "    guide = AutoDiagonalNormal(model) \n",
    "\n",
    "    predictive = Predictive(model, guide=guide, num_samples=800,\n",
    "                        return_sites=(\"obs\", \"_RETURN\"))\n",
    "    \n",
    "    adam = pyro.optim.Adam({'lr' : 1e-2})\n",
    "    #scheduled_adam = pyro.optim.ReduceLROnPlateau({'optimizer': adam, \n",
    "    #                                               'optim_args': {'lr' : 1e-3},\n",
    "    #                                               'patience': 25})\n",
    "    \n",
    "    svi = SVI(model, guide, adam, loss=Trace_ELBO())\n",
    "    \n",
    "    pyro.clear_param_store()\n",
    "\n",
    "    loss_arr = []\n",
    "\n",
    "    for j in range(num_iter):\n",
    "        running_loss = 0\n",
    "\n",
    "        loss = svi.step(X_tens, y_tens)\n",
    "        running_loss += loss\n",
    "\n",
    "        loss_arr.append(running_loss)\n",
    "        \n",
    "        if (j + 1) % 50 == 0:\n",
    "            print(\"[iteration %04d] loss: %.4f\" % (j + 1, loss))\n",
    "\n",
    "    return model, loss_arr, predictive"
   ]
  },
  {
   "cell_type": "code",
   "execution_count": 27,
   "metadata": {},
   "outputs": [],
   "source": [
    "# get predictions on the full dataset for analysis\n",
    "\n",
    "from pyro.infer import Predictive\n",
    "\n",
    "def summary(samples):\n",
    "    site_stats = {}\n",
    "    for k, v in samples.items():\n",
    "        site_stats[k] = {\n",
    "            \"mean\": torch.mean(v, 0),\n",
    "            \"std\":  torch.std(v, 0),\n",
    "            \"5%\":   v.kthvalue(int(len(v) * 0.05), dim=0)[0],\n",
    "            \"95%\":  v.kthvalue(int(len(v) * 0.95), dim=0)[0],\n",
    "        }\n",
    "    return site_stats"
   ]
  },
  {
   "cell_type": "code",
   "execution_count": 41,
   "metadata": {},
   "outputs": [
    {
     "name": "stdout",
     "output_type": "stream",
     "text": [
      "[iteration 0050] loss: 95622930.2095\n",
      "[iteration 0100] loss: 10992100.2092\n",
      "[iteration 0150] loss: 4541314.7100\n",
      "[iteration 0200] loss: 73414.5093\n",
      "[iteration 0250] loss: 439383.3310\n",
      "[iteration 0300] loss: 192423.0370\n",
      "[iteration 0350] loss: 2480832.5421\n",
      "[iteration 0400] loss: 183883.8727\n",
      "[iteration 0450] loss: 150210.5911\n",
      "[iteration 0500] loss: 68764.6335\n"
     ]
    }
   ],
   "source": [
    "model, loss_arr, predictive = run_training(500)"
   ]
  },
  {
   "cell_type": "code",
   "execution_count": 42,
   "metadata": {},
   "outputs": [],
   "source": [
    "samples = predictive(X_tens, y_tens)\n",
    "pred_summary = summary(samples)"
   ]
  },
  {
   "cell_type": "code",
   "execution_count": 43,
   "metadata": {},
   "outputs": [],
   "source": [
    "y_pred = pred_summary['_RETURN']['mean'].detach().cpu().numpy()"
   ]
  },
  {
   "cell_type": "code",
   "execution_count": 44,
   "metadata": {},
   "outputs": [
    {
     "data": {
      "text/plain": [
       "array([0.07290263, 0.15521252, 0.08168616, ..., 0.07137582, 0.05999634,\n",
       "       0.06522755], dtype=float32)"
      ]
     },
     "execution_count": 44,
     "metadata": {},
     "output_type": "execute_result"
    }
   ],
   "source": [
    "y_pred"
   ]
  },
  {
   "cell_type": "markdown",
   "metadata": {},
   "source": [
    "## Visualise results"
   ]
  },
  {
   "cell_type": "code",
   "execution_count": 45,
   "metadata": {},
   "outputs": [],
   "source": [
    "X_sum = X_train.sum(axis=1).reshape(-1,1)"
   ]
  },
  {
   "cell_type": "code",
   "execution_count": 46,
   "metadata": {},
   "outputs": [],
   "source": [
    "y_train = y_train.reshape(-1,1)\n",
    "y_pred = y_pred.reshape(-1,1)"
   ]
  },
  {
   "cell_type": "code",
   "execution_count": 47,
   "metadata": {},
   "outputs": [],
   "source": [
    "model_name = 'BNN on full sum'\n",
    "save_file_prefix = model_name.replace(' ', '-')"
   ]
  },
  {
   "cell_type": "code",
   "execution_count": 48,
   "metadata": {},
   "outputs": [
    {
     "data": {
      "image/png": "[encoded data removed]",
      "text/plain": [
       "<Figure size 432x288 with 1 Axes>"
      ]
     },
     "metadata": {
      "needs_background": "light"
     },
     "output_type": "display_data"
    }
   ],
   "source": [
    "def plot_loss_arrays(loss_dict):\n",
    "    for key in loss_dict.keys():\n",
    "        plt.plot(loss_dict[key][0:], label=key)\n",
    "    \n",
    "    plt.yscale('log')\n",
    "    #plt.xscale('log')\n",
    "    plt.ylabel('MSE loss')\n",
    "    plt.xlabel('Epoch')\n",
    "    plt.legend()\n",
    "    plt.show()\n",
    "    return\n",
    "    \n",
    "plot_loss_arrays({model_name : loss_arr})"
   ]
  },
  {
   "cell_type": "code",
   "execution_count": 49,
   "metadata": {},
   "outputs": [
    {
     "data": {
      "image/png": "[encoded data removed]",
      "text/plain": [
       "<Figure size 576x432 with 2 Axes>"
      ]
     },
     "metadata": {
      "needs_background": "light"
     },
     "output_type": "display_data"
    }
   ],
   "source": [
    "model_visualisation.plot_2d_energy_hist_clip(X_sum, y_train, y_pred, 0, model_name,\n",
    "                                             save_file_prefix=save_file_prefix) "
   ]
  },
  {
   "cell_type": "code",
   "execution_count": 50,
   "metadata": {},
   "outputs": [
    {
     "data": {
      "image/png": "[encoded data removed]",
      "text/plain": [
       "<Figure size 864x576 with 4 Axes>"
      ]
     },
     "metadata": {
      "needs_background": "light"
     },
     "output_type": "display_data"
    }
   ],
   "source": [
    "model_visualisation.plot_res_vs_energy(X_sum, y_train, y_pred, vmax=450,\n",
    "                                       save_file_prefix=save_file_prefix) "
   ]
  },
  {
   "cell_type": "code",
   "execution_count": 51,
   "metadata": {},
   "outputs": [
    {
     "name": "stdout",
     "output_type": "stream",
     "text": [
      "mean   = 6.50775e-01\n",
      "std    = 5.92244e+00\n",
      "median = -4.07691e-01\n"
     ]
    },
    {
     "data": {
      "image/png": "[encoded data removed]",
      "text/plain": [
       "<Figure size 576x432 with 1 Axes>"
      ]
     },
     "metadata": {
      "needs_background": "light"
     },
     "output_type": "display_data"
    }
   ],
   "source": [
    "model_visualisation.plot_res_hist_fit(y_train, y_pred, [-1,20],\n",
    "                                      save_file_prefix=save_file_prefix)"
   ]
  },
  {
   "cell_type": "code",
   "execution_count": 52,
   "metadata": {},
   "outputs": [
    {
     "name": "stdout",
     "output_type": "stream",
     "text": [
      "explained_variance_score -0.446316143667181\n",
      "max_error 3.4659746900958766\n",
      "mean_absolute_error 0.15628667627278411\n",
      "mean_squared_error 0.05459065595090636\n",
      "median_absolute_error 0.09853308992348463\n",
      "r2_score -0.7063447287640476\n"
     ]
    },
    {
     "data": {
      "text/html": [
       "<div>\n",
       "<style scoped>\n",
       "    .dataframe tbody tr th:only-of-type {\n",
       "        vertical-align: middle;\n",
       "    }\n",
       "\n",
       "    .dataframe tbody tr th {\n",
       "        vertical-align: top;\n",
       "    }\n",
       "\n",
       "    .dataframe thead th {\n",
       "        text-align: right;\n",
       "    }\n",
       "</style>\n",
       "<table border=\"1\" class=\"dataframe\">\n",
       "  <thead>\n",
       "    <tr style=\"text-align: right;\">\n",
       "      <th></th>\n",
       "      <th>BNN-on-full-sum</th>\n",
       "    </tr>\n",
       "  </thead>\n",
       "  <tbody>\n",
       "    <tr>\n",
       "      <td>explained_variance_score</td>\n",
       "      <td>-0.446316</td>\n",
       "    </tr>\n",
       "    <tr>\n",
       "      <td>max_error</td>\n",
       "      <td>3.465975</td>\n",
       "    </tr>\n",
       "    <tr>\n",
       "      <td>mean_absolute_error</td>\n",
       "      <td>0.156287</td>\n",
       "    </tr>\n",
       "    <tr>\n",
       "      <td>mean_squared_error</td>\n",
       "      <td>0.054591</td>\n",
       "    </tr>\n",
       "    <tr>\n",
       "      <td>median_absolute_error</td>\n",
       "      <td>0.098533</td>\n",
       "    </tr>\n",
       "    <tr>\n",
       "      <td>r2_score</td>\n",
       "      <td>-0.706345</td>\n",
       "    </tr>\n",
       "    <tr>\n",
       "      <td>avg_resolution</td>\n",
       "      <td>0.650775</td>\n",
       "    </tr>\n",
       "    <tr>\n",
       "      <td>std_resolution</td>\n",
       "      <td>5.922440</td>\n",
       "    </tr>\n",
       "  </tbody>\n",
       "</table>\n",
       "</div>"
      ],
      "text/plain": [
       "                          BNN-on-full-sum\n",
       "explained_variance_score        -0.446316\n",
       "max_error                        3.465975\n",
       "mean_absolute_error              0.156287\n",
       "mean_squared_error               0.054591\n",
       "median_absolute_error            0.098533\n",
       "r2_score                        -0.706345\n",
       "avg_resolution                   0.650775\n",
       "std_resolution                   5.922440"
      ]
     },
     "execution_count": 52,
     "metadata": {},
     "output_type": "execute_result"
    }
   ],
   "source": [
    "model_evaluation.save_scores(y_train, y_pred, save_file_prefix)"
   ]
  },
  {
   "cell_type": "code",
   "execution_count": 53,
   "metadata": {},
   "outputs": [
    {
     "data": {
      "text/html": [
       "<div>\n",
       "<style scoped>\n",
       "    .dataframe tbody tr th:only-of-type {\n",
       "        vertical-align: middle;\n",
       "    }\n",
       "\n",
       "    .dataframe tbody tr th {\n",
       "        vertical-align: top;\n",
       "    }\n",
       "\n",
       "    .dataframe thead th {\n",
       "        text-align: right;\n",
       "    }\n",
       "</style>\n",
       "<table border=\"1\" class=\"dataframe\">\n",
       "  <thead>\n",
       "    <tr style=\"text-align: right;\">\n",
       "      <th></th>\n",
       "      <th>Score</th>\n",
       "      <th>L2-on-full-sum-(clipped-data)</th>\n",
       "      <th>NN-on-projections</th>\n",
       "      <th>L2-on-projections</th>\n",
       "      <th>NN-on-sum</th>\n",
       "      <th>L2-on-plane-sums</th>\n",
       "      <th>NN-on-plane-sums</th>\n",
       "      <th>NN-on-full-sum</th>\n",
       "      <th>L2-on-true-hits</th>\n",
       "      <th>BNN-on-full-sum</th>\n",
       "    </tr>\n",
       "  </thead>\n",
       "  <tbody>\n",
       "    <tr>\n",
       "      <td>0</td>\n",
       "      <td>explained_variance_score</td>\n",
       "      <td>0.014135</td>\n",
       "      <td>-0.389124</td>\n",
       "      <td>0.050684</td>\n",
       "      <td>0.020719</td>\n",
       "      <td>0.279462</td>\n",
       "      <td>0.141934</td>\n",
       "      <td>0.059597</td>\n",
       "      <td>0.127250</td>\n",
       "      <td>-0.446316</td>\n",
       "    </tr>\n",
       "    <tr>\n",
       "      <td>1</td>\n",
       "      <td>max_error</td>\n",
       "      <td>1.003849</td>\n",
       "      <td>1.280791</td>\n",
       "      <td>0.977129</td>\n",
       "      <td>1.044819</td>\n",
       "      <td>1.035705</td>\n",
       "      <td>4.579544</td>\n",
       "      <td>1.036159</td>\n",
       "      <td>0.999070</td>\n",
       "      <td>3.465975</td>\n",
       "    </tr>\n",
       "    <tr>\n",
       "      <td>2</td>\n",
       "      <td>mean_absolute_error</td>\n",
       "      <td>0.130024</td>\n",
       "      <td>0.166565</td>\n",
       "      <td>0.129588</td>\n",
       "      <td>0.126946</td>\n",
       "      <td>0.113108</td>\n",
       "      <td>0.117496</td>\n",
       "      <td>0.127036</td>\n",
       "      <td>0.125568</td>\n",
       "      <td>0.156287</td>\n",
       "    </tr>\n",
       "    <tr>\n",
       "      <td>3</td>\n",
       "      <td>mean_squared_error</td>\n",
       "      <td>0.032028</td>\n",
       "      <td>0.055521</td>\n",
       "      <td>0.029965</td>\n",
       "      <td>0.033186</td>\n",
       "      <td>0.023052</td>\n",
       "      <td>0.027452</td>\n",
       "      <td>0.030467</td>\n",
       "      <td>0.027922</td>\n",
       "      <td>0.054591</td>\n",
       "    </tr>\n",
       "    <tr>\n",
       "      <td>4</td>\n",
       "      <td>median_absolute_error</td>\n",
       "      <td>0.104099</td>\n",
       "      <td>0.115650</td>\n",
       "      <td>0.110256</td>\n",
       "      <td>0.092175</td>\n",
       "      <td>0.092548</td>\n",
       "      <td>0.092858</td>\n",
       "      <td>0.101551</td>\n",
       "      <td>0.107848</td>\n",
       "      <td>0.098533</td>\n",
       "    </tr>\n",
       "    <tr>\n",
       "      <td>5</td>\n",
       "      <td>r2_score</td>\n",
       "      <td>-0.001109</td>\n",
       "      <td>-0.735436</td>\n",
       "      <td>0.050683</td>\n",
       "      <td>-0.037294</td>\n",
       "      <td>0.279462</td>\n",
       "      <td>0.141927</td>\n",
       "      <td>0.047684</td>\n",
       "      <td>0.127250</td>\n",
       "      <td>-0.706345</td>\n",
       "    </tr>\n",
       "    <tr>\n",
       "      <td>6</td>\n",
       "      <td>avg_resolution</td>\n",
       "      <td>1.729036</td>\n",
       "      <td>0.801541</td>\n",
       "      <td>2.009617</td>\n",
       "      <td>1.320563</td>\n",
       "      <td>1.498581</td>\n",
       "      <td>1.434560</td>\n",
       "      <td>1.623036</td>\n",
       "      <td>1.872374</td>\n",
       "      <td>0.650775</td>\n",
       "    </tr>\n",
       "    <tr>\n",
       "      <td>7</td>\n",
       "      <td>std_resolution</td>\n",
       "      <td>7.130151</td>\n",
       "      <td>6.775223</td>\n",
       "      <td>7.685008</td>\n",
       "      <td>5.642022</td>\n",
       "      <td>5.833365</td>\n",
       "      <td>5.486788</td>\n",
       "      <td>6.129634</td>\n",
       "      <td>7.319886</td>\n",
       "      <td>5.922440</td>\n",
       "    </tr>\n",
       "  </tbody>\n",
       "</table>\n",
       "</div>"
      ],
      "text/plain": [
       "                      Score  L2-on-full-sum-(clipped-data)  NN-on-projections  \\\n",
       "0  explained_variance_score                       0.014135          -0.389124   \n",
       "1                 max_error                       1.003849           1.280791   \n",
       "2       mean_absolute_error                       0.130024           0.166565   \n",
       "3        mean_squared_error                       0.032028           0.055521   \n",
       "4     median_absolute_error                       0.104099           0.115650   \n",
       "5                  r2_score                      -0.001109          -0.735436   \n",
       "6            avg_resolution                       1.729036           0.801541   \n",
       "7            std_resolution                       7.130151           6.775223   \n",
       "\n",
       "   L2-on-projections  NN-on-sum  L2-on-plane-sums  NN-on-plane-sums  \\\n",
       "0           0.050684   0.020719          0.279462          0.141934   \n",
       "1           0.977129   1.044819          1.035705          4.579544   \n",
       "2           0.129588   0.126946          0.113108          0.117496   \n",
       "3           0.029965   0.033186          0.023052          0.027452   \n",
       "4           0.110256   0.092175          0.092548          0.092858   \n",
       "5           0.050683  -0.037294          0.279462          0.141927   \n",
       "6           2.009617   1.320563          1.498581          1.434560   \n",
       "7           7.685008   5.642022          5.833365          5.486788   \n",
       "\n",
       "   NN-on-full-sum  L2-on-true-hits  BNN-on-full-sum  \n",
       "0        0.059597         0.127250        -0.446316  \n",
       "1        1.036159         0.999070         3.465975  \n",
       "2        0.127036         0.125568         0.156287  \n",
       "3        0.030467         0.027922         0.054591  \n",
       "4        0.101551         0.107848         0.098533  \n",
       "5        0.047684         0.127250        -0.706345  \n",
       "6        1.623036         1.872374         0.650775  \n",
       "7        6.129634         7.319886         5.922440  "
      ]
     },
     "execution_count": 53,
     "metadata": {},
     "output_type": "execute_result"
    }
   ],
   "source": [
    "model_evaluation.collect_all_scores()"
   ]
  },
  {
   "cell_type": "code",
   "execution_count": null,
   "metadata": {},
   "outputs": [],
   "source": []
  },
  {
   "cell_type": "code",
   "execution_count": null,
   "metadata": {},
   "outputs": [],
   "source": []
  }
 ],
 "metadata": {
  "kernelspec": {
   "display_name": "Python 3",
   "language": "python",
   "name": "python3"
  },
  "language_info": {
   "codemirror_mode": {
    "name": "ipython",
    "version": 3
   },
   "file_extension": ".py",
   "mimetype": "text/x-python",
   "name": "python",
   "nbconvert_exporter": "python",
   "pygments_lexer": "ipython3",
   "version": "3.7.4"
  }
 },
 "nbformat": 4,
 "nbformat_minor": 2
}
