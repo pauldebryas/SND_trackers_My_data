{
 "cells": [
  {
   "cell_type": "code",
   "execution_count": 1,
   "metadata": {},
   "outputs": [
    {
     "name": "stdout",
     "output_type": "stream",
     "text": [
      "Welcome to JupyROOT 6.18/00\n"
     ]
    }
   ],
   "source": [
    "from utils import DataPreprocess, Parameters\n",
    "\n",
    "import numpy as np\n",
    "import pandas as pd\n",
    "import os"
   ]
  },
  {
   "cell_type": "code",
   "execution_count": 2,
   "metadata": {},
   "outputs": [],
   "source": [
    "DETECTOR_PARAMS = Parameters(\"SNDatLHC\")\n",
    "DETECTOR_CONFIG = DETECTOR_PARAMS.snd_params[DETECTOR_PARAMS.configuration]\n",
    "\n",
    "from src.process_pickle import *"
   ]
  },
  {
   "cell_type": "code",
   "execution_count": 3,
   "metadata": {},
   "outputs": [],
   "source": [
    "PART_TYPE_ARR = ['nuel', 'numu', 'nutau']"
   ]
  },
  {
   "cell_type": "code",
   "execution_count": 18,
   "metadata": {},
   "outputs": [],
   "source": [
    "DATA_PATH = dict()\n",
    "DATA_PATH['nuel']  = \"~/snd_data/nue\"\n",
    "DATA_PATH['numu']  = \"~/snd_data/numu\"\n",
    "DATA_PATH['nutau'] = \"~/snd_data/nutau\"\n",
    "\n",
    "EVENTS_PER_FILE = 4000 # todo -> read from the files ?\n",
    "FILES_NUM       = 100  "
   ]
  },
  {
   "cell_type": "code",
   "execution_count": 19,
   "metadata": {},
   "outputs": [],
   "source": [
    "full_paths = dict()\n",
    "\n",
    "for part_type in PART_TYPE_ARR:\n",
    "    full_paths[part_type] = os.path.expandvars(DATA_PATH[part_type])"
   ]
  },
  {
   "cell_type": "code",
   "execution_count": 20,
   "metadata": {},
   "outputs": [
    {
     "data": {
      "text/plain": [
       "{'nuel': '~/snd_data/nue',\n",
       " 'numu': '~/snd_data/numu',\n",
       " 'nutau': '~/snd_data/nutau'}"
      ]
     },
     "execution_count": 20,
     "metadata": {},
     "output_type": "execute_result"
    }
   ],
   "source": [
    "full_paths"
   ]
  },
  {
   "cell_type": "code",
   "execution_count": 21,
   "metadata": {},
   "outputs": [],
   "source": [
    "from src.operate_datasets import detector_planes_num\n",
    "\n",
    "filt_num = detector_planes_num(DETECTOR_PARAMS)\n",
    "\n",
    "# number of detector planes - extracted from the detector geometry\n",
    "filt_num"
   ]
  },
  {
   "cell_type": "code",
   "execution_count": 25,
   "metadata": {},
   "outputs": [],
   "source": [
    "file_size = 1 #FILES_NUM  \n",
    "step_size = EVENTS_PER_FILE\n",
    "\n",
    "n_steps = int(file_size / step_size) # number of chunks\n",
    "\n",
    "\n",
    "file_id = 99 # file num (pickled file contains multiple events) \n",
    "\n",
    "proc_file_path = full_paths['nuel']\n",
    "particle_type  = 'nuel'\n",
    "\n",
    "\n",
    "outpath = proc_file_path + \"/{}\".format(file_id)\n",
    "chunklist_scifi = pd.read_pickle(os.path.join(outpath, \"tt_cleared.pkl\"))\n",
    "chunklist_muons = pd.read_pickle(os.path.join(outpath, \"mu_cleared.pkl\"))\n",
    "chunklist_energ = pd.read_pickle(os.path.join(outpath,  \"y_cleared.pkl\"))"
   ]
  },
  {
   "cell_type": "code",
   "execution_count": 26,
   "metadata": {},
   "outputs": [],
   "source": [
    "det_params = DETECTOR_PARAMS"
   ]
  },
  {
   "cell_type": "code",
   "execution_count": 27,
   "metadata": {},
   "outputs": [],
   "source": [
    "from net import digitize_signal_scifi          as digit_scifi\n",
    "from net import digitize_signal_upstream_mu    as digit_up_mu\n",
    "from net import digitize_signal_downstream_mu  as digit_dn_mu\n",
    "\n",
    "# take subset of events in the file to ease computation\n",
    "events_per_file = 100 #step_size\n",
    "\n",
    "energy       = []\n",
    "resp_scifi   = []\n",
    "resp_up_mu   = []\n",
    "resp_down_mu = []\n",
    "\n",
    "# digitize the events\n",
    "for ev_id in range(events_per_file):\n",
    "    energy       .append(chunklist_energ['E'][ev_id])\n",
    "    resp_scifi   .append(digit_scifi(chunklist_scifi.iloc[ev_id], det_params, filt_num['scifi']))\n",
    "    resp_up_mu   .append(digit_up_mu(chunklist_muons.iloc[ev_id], det_params, filt_num['up_mu']))\n",
    "    resp_down_mu .append(digit_dn_mu(chunklist_muons.iloc[ev_id], det_params, filt_num['down_mu']))"
   ]
  },
  {
   "cell_type": "code",
   "execution_count": 41,
   "metadata": {},
   "outputs": [],
   "source": [
    "# construct a dataframe with all info about the event (scifi, mu resp, energy)\n",
    "file_id_arr  = np.full(events_per_file, file_id)\n",
    "file_pos_arr = np.arange(events_per_file)\n",
    "event_id     = file_id * step_size + file_pos_arr\n",
    "    \n",
    "df = pd.DataFrame({'file_id' : file_id_arr,\n",
    "                  'file_pos' : file_pos_arr,\n",
    "                  'event_id' : event_id,\n",
    "                  'energy'   : energy,\n",
    "                  'scifi'    : resp_scifi,\n",
    "                  'up_mu'    : resp_up_mu,\n",
    "                  'dn_mu'    : resp_down_mu})\n",
    "\n",
    "# todo (to lower memory consumption):\n",
    "# categorical for particle type\n",
    "# dtypes"
   ]
  },
  {
   "cell_type": "code",
   "execution_count": 29,
   "metadata": {},
   "outputs": [
    {
     "data": {
      "text/html": [
       "<div>\n",
       "<style scoped>\n",
       "    .dataframe tbody tr th:only-of-type {\n",
       "        vertical-align: middle;\n",
       "    }\n",
       "\n",
       "    .dataframe tbody tr th {\n",
       "        vertical-align: top;\n",
       "    }\n",
       "\n",
       "    .dataframe thead th {\n",
       "        text-align: right;\n",
       "    }\n",
       "</style>\n",
       "<table border=\"1\" class=\"dataframe\">\n",
       "  <thead>\n",
       "    <tr style=\"text-align: right;\">\n",
       "      <th></th>\n",
       "      <th>file_id</th>\n",
       "      <th>file_pos</th>\n",
       "      <th>event_id</th>\n",
       "      <th>energy</th>\n",
       "      <th>scifi</th>\n",
       "      <th>up_mu</th>\n",
       "      <th>dn_mu</th>\n",
       "    </tr>\n",
       "  </thead>\n",
       "  <tbody>\n",
       "    <tr>\n",
       "      <td>0</td>\n",
       "      <td>99</td>\n",
       "      <td>0</td>\n",
       "      <td>396000</td>\n",
       "      <td>539.551934</td>\n",
       "      <td>[[[0.0, 0.0, 0.0, 0.0, 0.0, 0.0, 0.0, 0.0, 0.0...</td>\n",
       "      <td>[[[0.0], [0.0], [0.0], [0.0], [0.0], [0.0], [0...</td>\n",
       "      <td>[[[0.0, 0.0, 0.0, 0.0, 0.0, 0.0, 0.0, 0.0, 0.0...</td>\n",
       "    </tr>\n",
       "    <tr>\n",
       "      <td>1</td>\n",
       "      <td>99</td>\n",
       "      <td>1</td>\n",
       "      <td>396001</td>\n",
       "      <td>800.003587</td>\n",
       "      <td>[[[0.0, 0.0, 0.0, 0.0, 0.0, 0.0, 0.0, 0.0, 0.0...</td>\n",
       "      <td>[[[1.0], [1.0], [1.0], [1.0], [1.0], [1.0], [1...</td>\n",
       "      <td>[[[0.0, 0.0, 0.0, 0.0, 0.0, 0.0, 0.0, 0.0, 0.0...</td>\n",
       "    </tr>\n",
       "    <tr>\n",
       "      <td>2</td>\n",
       "      <td>99</td>\n",
       "      <td>2</td>\n",
       "      <td>396002</td>\n",
       "      <td>439.818584</td>\n",
       "      <td>[[[0.0, 0.0, 0.0, 0.0, 0.0, 0.0, 0.0, 0.0, 0.0...</td>\n",
       "      <td>[[[0.0], [0.0], [0.0], [0.0], [0.0], [0.0], [0...</td>\n",
       "      <td>[[[0.0, 0.0, 0.0, 0.0, 0.0, 0.0, 0.0, 0.0, 0.0...</td>\n",
       "    </tr>\n",
       "    <tr>\n",
       "      <td>3</td>\n",
       "      <td>99</td>\n",
       "      <td>3</td>\n",
       "      <td>396003</td>\n",
       "      <td>612.684584</td>\n",
       "      <td>[[[0.0, 0.0, 0.0, 0.0, 0.0, 0.0, 0.0, 0.0, 0.0...</td>\n",
       "      <td>[[[0.0], [0.0], [0.0], [0.0], [0.0], [0.0], [0...</td>\n",
       "      <td>[[[0.0, 0.0, 0.0, 0.0, 0.0, 0.0, 0.0, 0.0, 0.0...</td>\n",
       "    </tr>\n",
       "    <tr>\n",
       "      <td>4</td>\n",
       "      <td>99</td>\n",
       "      <td>4</td>\n",
       "      <td>396004</td>\n",
       "      <td>498.400765</td>\n",
       "      <td>[[[0.0, 0.0, 0.0, 0.0, 0.0, 0.0, 0.0, 0.0, 0.0...</td>\n",
       "      <td>[[[0.0], [0.0], [0.0], [0.0], [0.0], [0.0], [0...</td>\n",
       "      <td>[[[0.0, 0.0, 0.0, 0.0, 0.0, 0.0, 0.0, 0.0, 0.0...</td>\n",
       "    </tr>\n",
       "    <tr>\n",
       "      <td>...</td>\n",
       "      <td>...</td>\n",
       "      <td>...</td>\n",
       "      <td>...</td>\n",
       "      <td>...</td>\n",
       "      <td>...</td>\n",
       "      <td>...</td>\n",
       "      <td>...</td>\n",
       "    </tr>\n",
       "    <tr>\n",
       "      <td>95</td>\n",
       "      <td>99</td>\n",
       "      <td>95</td>\n",
       "      <td>396095</td>\n",
       "      <td>2044.944618</td>\n",
       "      <td>[[[0.0, 0.0, 0.0, 0.0, 0.0, 0.0, 0.0, 0.0, 0.0...</td>\n",
       "      <td>[[[0.0], [1.0], [1.0], [0.0], [0.0], [1.0], [0...</td>\n",
       "      <td>[[[0.0, 0.0, 0.0, 0.0, 0.0, 0.0, 0.0, 0.0, 0.0...</td>\n",
       "    </tr>\n",
       "    <tr>\n",
       "      <td>96</td>\n",
       "      <td>99</td>\n",
       "      <td>96</td>\n",
       "      <td>396096</td>\n",
       "      <td>361.222199</td>\n",
       "      <td>[[[0.0, 0.0, 0.0, 0.0, 0.0, 0.0, 0.0, 0.0, 0.0...</td>\n",
       "      <td>[[[0.0], [0.0], [0.0], [0.0], [1.0], [1.0], [1...</td>\n",
       "      <td>[[[0.0, 0.0, 0.0, 0.0, 0.0, 0.0, 0.0, 0.0, 0.0...</td>\n",
       "    </tr>\n",
       "    <tr>\n",
       "      <td>97</td>\n",
       "      <td>99</td>\n",
       "      <td>97</td>\n",
       "      <td>396097</td>\n",
       "      <td>940.337260</td>\n",
       "      <td>[[[0.0, 0.0, 0.0, 0.0, 0.0, 0.0, 0.0, 0.0, 0.0...</td>\n",
       "      <td>[[[0.0], [0.0], [0.0], [0.0], [0.0], [0.0], [0...</td>\n",
       "      <td>[[[0.0, 0.0, 0.0, 0.0, 0.0, 0.0, 0.0, 0.0, 0.0...</td>\n",
       "    </tr>\n",
       "    <tr>\n",
       "      <td>98</td>\n",
       "      <td>99</td>\n",
       "      <td>98</td>\n",
       "      <td>396098</td>\n",
       "      <td>970.424941</td>\n",
       "      <td>[[[0.0, 0.0, 0.0, 0.0, 0.0, 0.0, 0.0, 0.0, 0.0...</td>\n",
       "      <td>[[[0.0], [0.0], [0.0], [0.0], [0.0], [0.0], [0...</td>\n",
       "      <td>[[[0.0, 0.0, 0.0, 0.0, 0.0, 0.0, 0.0, 0.0, 0.0...</td>\n",
       "    </tr>\n",
       "    <tr>\n",
       "      <td>99</td>\n",
       "      <td>99</td>\n",
       "      <td>99</td>\n",
       "      <td>396099</td>\n",
       "      <td>1515.323786</td>\n",
       "      <td>[[[0.0, 0.0, 0.0, 0.0, 0.0, 0.0, 0.0, 0.0, 0.0...</td>\n",
       "      <td>[[[1.0], [1.0], [1.0], [1.0], [1.0], [0.0], [0...</td>\n",
       "      <td>[[[0.0, 0.0, 0.0, 0.0, 0.0, 1.0, 1.0, 1.0, 1.0...</td>\n",
       "    </tr>\n",
       "  </tbody>\n",
       "</table>\n",
       "<p>100 rows × 7 columns</p>\n",
       "</div>"
      ],
      "text/plain": [
       "    file_id  file_pos  event_id       energy  \\\n",
       "0        99         0    396000   539.551934   \n",
       "1        99         1    396001   800.003587   \n",
       "2        99         2    396002   439.818584   \n",
       "3        99         3    396003   612.684584   \n",
       "4        99         4    396004   498.400765   \n",
       "..      ...       ...       ...          ...   \n",
       "95       99        95    396095  2044.944618   \n",
       "96       99        96    396096   361.222199   \n",
       "97       99        97    396097   940.337260   \n",
       "98       99        98    396098   970.424941   \n",
       "99       99        99    396099  1515.323786   \n",
       "\n",
       "                                                scifi  \\\n",
       "0   [[[0.0, 0.0, 0.0, 0.0, 0.0, 0.0, 0.0, 0.0, 0.0...   \n",
       "1   [[[0.0, 0.0, 0.0, 0.0, 0.0, 0.0, 0.0, 0.0, 0.0...   \n",
       "2   [[[0.0, 0.0, 0.0, 0.0, 0.0, 0.0, 0.0, 0.0, 0.0...   \n",
       "3   [[[0.0, 0.0, 0.0, 0.0, 0.0, 0.0, 0.0, 0.0, 0.0...   \n",
       "4   [[[0.0, 0.0, 0.0, 0.0, 0.0, 0.0, 0.0, 0.0, 0.0...   \n",
       "..                                                ...   \n",
       "95  [[[0.0, 0.0, 0.0, 0.0, 0.0, 0.0, 0.0, 0.0, 0.0...   \n",
       "96  [[[0.0, 0.0, 0.0, 0.0, 0.0, 0.0, 0.0, 0.0, 0.0...   \n",
       "97  [[[0.0, 0.0, 0.0, 0.0, 0.0, 0.0, 0.0, 0.0, 0.0...   \n",
       "98  [[[0.0, 0.0, 0.0, 0.0, 0.0, 0.0, 0.0, 0.0, 0.0...   \n",
       "99  [[[0.0, 0.0, 0.0, 0.0, 0.0, 0.0, 0.0, 0.0, 0.0...   \n",
       "\n",
       "                                                up_mu  \\\n",
       "0   [[[0.0], [0.0], [0.0], [0.0], [0.0], [0.0], [0...   \n",
       "1   [[[1.0], [1.0], [1.0], [1.0], [1.0], [1.0], [1...   \n",
       "2   [[[0.0], [0.0], [0.0], [0.0], [0.0], [0.0], [0...   \n",
       "3   [[[0.0], [0.0], [0.0], [0.0], [0.0], [0.0], [0...   \n",
       "4   [[[0.0], [0.0], [0.0], [0.0], [0.0], [0.0], [0...   \n",
       "..                                                ...   \n",
       "95  [[[0.0], [1.0], [1.0], [0.0], [0.0], [1.0], [0...   \n",
       "96  [[[0.0], [0.0], [0.0], [0.0], [1.0], [1.0], [1...   \n",
       "97  [[[0.0], [0.0], [0.0], [0.0], [0.0], [0.0], [0...   \n",
       "98  [[[0.0], [0.0], [0.0], [0.0], [0.0], [0.0], [0...   \n",
       "99  [[[1.0], [1.0], [1.0], [1.0], [1.0], [0.0], [0...   \n",
       "\n",
       "                                                dn_mu  \n",
       "0   [[[0.0, 0.0, 0.0, 0.0, 0.0, 0.0, 0.0, 0.0, 0.0...  \n",
       "1   [[[0.0, 0.0, 0.0, 0.0, 0.0, 0.0, 0.0, 0.0, 0.0...  \n",
       "2   [[[0.0, 0.0, 0.0, 0.0, 0.0, 0.0, 0.0, 0.0, 0.0...  \n",
       "3   [[[0.0, 0.0, 0.0, 0.0, 0.0, 0.0, 0.0, 0.0, 0.0...  \n",
       "4   [[[0.0, 0.0, 0.0, 0.0, 0.0, 0.0, 0.0, 0.0, 0.0...  \n",
       "..                                                ...  \n",
       "95  [[[0.0, 0.0, 0.0, 0.0, 0.0, 0.0, 0.0, 0.0, 0.0...  \n",
       "96  [[[0.0, 0.0, 0.0, 0.0, 0.0, 0.0, 0.0, 0.0, 0.0...  \n",
       "97  [[[0.0, 0.0, 0.0, 0.0, 0.0, 0.0, 0.0, 0.0, 0.0...  \n",
       "98  [[[0.0, 0.0, 0.0, 0.0, 0.0, 0.0, 0.0, 0.0, 0.0...  \n",
       "99  [[[0.0, 0.0, 0.0, 0.0, 0.0, 1.0, 1.0, 1.0, 1.0...  \n",
       "\n",
       "[100 rows x 7 columns]"
      ]
     },
     "execution_count": 29,
     "metadata": {},
     "output_type": "execute_result"
    }
   ],
   "source": [
    "df"
   ]
  },
  {
   "cell_type": "code",
   "execution_count": 35,
   "metadata": {},
   "outputs": [],
   "source": [
    "# estimate disk usage\n",
    "keys_arr = df.keys()\n",
    "memory_usage = df.memory_usage(index=True, deep=True)\n",
    "total_mem_usage = memory_usage.sum()"
   ]
  },
  {
   "cell_type": "code",
   "execution_count": 36,
   "metadata": {},
   "outputs": [
    {
     "data": {
      "text/plain": [
       "171657728"
      ]
     },
     "execution_count": 36,
     "metadata": {},
     "output_type": "execute_result"
    }
   ],
   "source": [
    "total_mem_usage # Byte"
   ]
  },
  {
   "cell_type": "code",
   "execution_count": 38,
   "metadata": {},
   "outputs": [
    {
     "data": {
      "text/plain": [
       "163.70556640625"
      ]
     },
     "execution_count": 38,
     "metadata": {},
     "output_type": "execute_result"
    }
   ],
   "source": [
    "total_mem_usage / (1024**2) # MB"
   ]
  },
  {
   "cell_type": "code",
   "execution_count": 42,
   "metadata": {},
   "outputs": [
    {
     "data": {
      "text/plain": [
       "1441.40625"
      ]
     },
     "execution_count": 42,
     "metadata": {},
     "output_type": "execute_result"
    }
   ],
   "source": [
    "# 164 MB for 100 events\n",
    "# we have 3 * 100 * 3000 events\n",
    "\n",
    "# thus memory\n",
    "164 / 100 * 3 * 100 * 3000 / 1024 # GB\n",
    "# too much"
   ]
  },
  {
   "cell_type": "markdown",
   "metadata": {},
   "source": [
    "In comparison\n",
    "\n",
    "`(base) [fsergeev@lphepc119 snd_data]$ du -sh *`\n",
    "\n",
    "| Directory  | Size |\n",
    "|:----:|:-----------:|\n",
    "|     nue     |  19G |\n",
    "|     numu    | 5.7G |\n",
    "|    nutau    |  12G |\n",
    "\n",
    "\n",
    "(directory contains pickled files for each of the particle types)"
   ]
  },
  {
   "cell_type": "code",
   "execution_count": null,
   "metadata": {},
   "outputs": [],
   "source": []
  }
 ],
 "metadata": {
  "kernelspec": {
   "display_name": "Python 3",
   "language": "python",
   "name": "python3"
  },
  "language_info": {
   "codemirror_mode": {
    "name": "ipython",
    "version": 3
   },
   "file_extension": ".py",
   "mimetype": "text/x-python",
   "name": "python",
   "nbconvert_exporter": "python",
   "pygments_lexer": "ipython3",
   "version": "3.8.5"
  }
 },
 "nbformat": 4,
 "nbformat_minor": 2
}
