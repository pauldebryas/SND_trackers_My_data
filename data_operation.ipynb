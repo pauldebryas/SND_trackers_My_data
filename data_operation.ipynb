{
 "cells": [
  {
   "cell_type": "markdown",
   "metadata": {},
   "source": [
    "# EM shower reconstruction at SND@LHC\n",
    "\n",
    "1. __make sure the preprocessing has already been done__\n",
    "\n",
    "2. __make sure `results` folder exists__\n",
    "\n",
    "https://arxiv.org/pdf/2002.08722.pdf"
   ]
  },
  {
   "cell_type": "code",
   "execution_count": 1,
   "metadata": {},
   "outputs": [
    {
     "name": "stdout",
     "output_type": "stream",
     "text": [
      "results/bayesian_results/\n",
      "results/bayesian_results/9X0_file/\n",
      "results/bayesian_results/9X0_file/8_9X0_coordconv.pt\n",
      "results/bayesian_results/9X0_file/4_9X0_coordconv.pt\n",
      "results/bayesian_results/9X0_file/9_9X0_coordconv.pt\n",
      "results/bayesian_results/9X0_file/0_9X0_coordconv.pt\n",
      "results/bayesian_results/9X0_file/7_9X0_coordconv.pt\n",
      "results/bayesian_results/9X0_file/1_9X0_coordconv.pt\n",
      "results/bayesian_results/9X0_file/2_9X0_coordconv.pt\n",
      "results/bayesian_results/9X0_file/6_9X0_coordconv.pt\n",
      "results/bayesian_results/9X0_file/5_9X0_coordconv.pt\n",
      "results/bayesian_results/9X0_file/3_9X0_coordconv.pt\n",
      "results/bayesian_results/NN_performance.txt\n",
      "results/bayesian_results/PredE_file/\n",
      "results/bayesian_results/PredE_file/9_PredE_test.npy\n",
      "results/bayesian_results/PredE_file/1_PredE_test.npy\n",
      "results/bayesian_results/PredE_file/3_PredE_test.npy\n",
      "results/bayesian_results/PredE_file/5_PredE_test.npy\n",
      "results/bayesian_results/PredE_file/8_PredE_test.npy\n",
      "results/bayesian_results/PredE_file/2_PredE_test.npy\n",
      "results/bayesian_results/PredE_file/4_PredE_test.npy\n",
      "results/bayesian_results/PredE_file/0_PredE_test.npy\n",
      "results/bayesian_results/PredE_file/6_PredE_test.npy\n",
      "results/bayesian_results/PredE_file/7_PredE_test.npy\n",
      "results/img/\n",
      "results/img/NN-on-plane-sums_plot_res_hist_fit.png\n",
      "results/img/L2-on-projections_plot_res_vs_energy.png\n",
      "results/img/NN-on-true-hits_plot_2d_energy_hist_clip.png\n",
      "results/img/NN-on-true-hits_plot_res_hist_fit.png\n",
      "results/img/BNN-on-plane-sums_plot_res_hist_fit.png\n",
      "results/img/NN-on-full-sum_plot_res_hist_fit.png\n",
      "results/img/L2-on-plane-sums_plot_res_vs_energy.png\n",
      "results/img/BNN-on-plane-sums_plot_2d_energy_hist_clip.png\n",
      "results/img/L2-on-full-sum_plot_res_vs_energy.png\n",
      "results/img/L2-on-projections_plot_res_hist_fit.png\n",
      "results/img/L2-on-true-hits_plot_res_hist_fit.png\n",
      "results/img/NN-on-full-sum_plot_res_vs_energy.png\n",
      "results/img/NN-on-projections_plot_2d_energy_hist_clip.png\n",
      "results/img/NN-on-projections_plot_res_vs_energy.png\n",
      "results/img/L2-on-projections_plot_2d_energy_hist_clip.png\n",
      "results/img/L2-on-true-hits_plot_2d_energy_hist.png\n",
      "results/img/BNN-on-full-sum_plot_res_vs_energy.png\n",
      "results/img/data_vis_1d_log_exp.png\n",
      "results/img/data_vis_planes_upstr.png\n",
      "results/img/data_vis_1d_log_true.png\n",
      "results/img/NN-on-full-sum_plot_2d_energy_hist_clip.png\n",
      "results/img/data_vis_planes_downstr.png\n",
      "results/img/data_vis_planes_scifi.png\n",
      "results/img/L2-on-true-hits_plot_res_vs_energy.png\n",
      "results/img/.ipynb_checkpoints/\n",
      "results/img/data_vis_density_all.png\n",
      "results/img/data_vis_2d_hist.png\n",
      "results/img/BNN-on-full-sum_plot_2d_energy_hist_clip.png\n",
      "results/img/BNN-on-full-sum_plot_res_hist_fit.png\n",
      "results/img/L2-on-true-hits_plot_2d_energy_hist_clip.png\n",
      "results/img/L2-on-plane-sums_plot_2d_energy_hist.png\n",
      "results/img/L2-on-plane-sums_plot_2d_energy_hist_clip.png\n",
      "results/img/L2-on-plane-sums_plot_res_hist_fit.png\n",
      "results/img/NN-on-plane-sums_plot_res_vs_energy.png\n",
      "results/img/L2-on-full-sum_plot_2d_energy_hist_clip.png\n",
      "results/img/data_vis_1d_lin_exp.png\n",
      "results/img/NN-on-plane-sums_plot_2d_energy_hist_clip.png\n",
      "results/img/NN-on-projections_plot_res_hist_fit.png\n",
      "results/img/NN-on-true-hits_plot_res_vs_energy.png\n",
      "results/img/L2-on-full-sum_plot_res_hist_fit.png\n",
      "results/img/data_vis_density_tau.png\n",
      "results/img/L2-on-projections_plot_2d_energy_hist.png\n",
      "results/img/data_vis_density_nuel.png\n",
      "results/img/data_vis_1d_lin_true.png\n",
      "results/img/data_vis_2d_hist_cut.png\n",
      "results/img/BNN-on-plane-sums_plot_res_vs_energy.png\n",
      "results/img/data_vis_density_mu.png\n",
      "results/results_bnn/\n",
      "results/results_bnn/9X0_file/\n",
      "results/results_bnn/9X0_file/19_9X0_coordconv.pt\n",
      "results/results_bnn/9X0_file/9_9X0_coordconv.pt\n",
      "results/results_bnn/9X0_file/49_9X0_coordconv.pt\n",
      "results/results_bnn/9X0_file/39_9X0_coordconv.pt\n",
      "results/results_bnn/9X0_file/29_9X0_coordconv.pt\n",
      "results/results_bnn/NN_performance.txt\n",
      "results/results_bnn/TrueLabel_test.npy\n",
      "results/results_bnn/PredE_file/\n",
      "results/results_bnn/PredE_file/9_PredE_test.npy\n",
      "results/results_bnn/PredE_file/29_PredE_test.npy\n",
      "results/results_bnn/PredE_file/19_PredE_test.npy\n",
      "results/results_bnn/PredE_file/49_PredE_test.npy\n",
      "results/results_bnn/PredE_file/39_PredE_test.npy\n",
      "results/results_bnn/TrueE_test.npy\n",
      "results/results_orig/\n",
      "results/results_orig/9X0_file/\n",
      "results/results_orig/9X0_file/19_9X0_coordconv.pt\n",
      "results/results_orig/9X0_file/9_9X0_coordconv.pt\n",
      "results/results_orig/9X0_file/49_9X0_coordconv.pt\n",
      "results/results_orig/9X0_file/39_9X0_coordconv.pt\n",
      "results/results_orig/9X0_file/29_9X0_coordconv.pt\n",
      "results/results_orig/NN_performance.txt\n",
      "results/results_orig/TrueLabel_test.npy\n",
      "results/results_orig/PredE_file/\n",
      "results/results_orig/PredE_file/9_PredE_test.npy\n",
      "results/results_orig/PredE_file/29_PredE_test.npy\n",
      "results/results_orig/PredE_file/19_PredE_test.npy\n",
      "results/results_orig/PredE_file/49_PredE_test.npy\n",
      "results/results_orig/PredE_file/39_PredE_test.npy\n",
      "results/results_orig/TrueE_test.npy\n",
      "results/scores/\n",
      "results/scores/BNN-on-plane-sums_scores.csv\n",
      "results/scores/NN-on-projections_scores.csv\n",
      "results/scores/.ipynb_checkpoints/\n",
      "results/scores/NN-on-true-hits_scores.csv\n",
      "results/scores/L2-on-projections_scores.csv\n",
      "results/scores/L2-on-plane-sums_scores.csv\n",
      "results/scores/NN-on-plane-sums_scores.csv\n",
      "results/scores/L2-on-full-sum_scores.csv\n",
      "results/scores/NN-on-full-sum_scores.csv\n",
      "results/scores/L2-on-true-hits_scores.csv\n",
      "results/scores/BNN-on-full-sum_scores.csv\n",
      "results/test_scores/\n",
      "results/test_scores/BNN-on-plane-sums_scores.csv\n",
      "results/test_scores/NN-on-projections_scores.csv\n",
      "results/test_scores/.ipynb_checkpoints/\n",
      "results/test_scores/NN-on-true-hits_scores.csv\n",
      "results/test_scores/L2-on-projections_scores.csv\n",
      "results/test_scores/L2-on-plane-sums_scores.csv\n",
      "results/test_scores/NN-on-plane-sums_scores.csv\n",
      "results/test_scores/L2-on-full-sum_scores.csv\n",
      "results/test_scores/NN-on-full-sum_scores.csv\n",
      "results/test_scores/L2-on-true-hits_scores.csv\n",
      "results/test_scores/BNN-on-full-sum_scores.csv\n"
     ]
    }
   ],
   "source": [
    "# save the results folder in an archive\n",
    "# you can download it from the Jupyter file manager\n",
    "# !tar chvfz archive_results.tar.gz results/*"
   ]
  },
  {
   "cell_type": "code",
   "execution_count": 2,
   "metadata": {},
   "outputs": [
    {
     "name": "stdout",
     "output_type": "stream",
     "text": [
      "Welcome to JupyROOT 6.18/00\n"
     ]
    }
   ],
   "source": [
    "# imports from utils.py & net.py\n",
    "from utils import DataPreprocess, Parameters\n",
    "#from net import SNDNet, BNN, MyDataset, digitize_signal, digitize_signal_1d\n",
    "\n",
    "# python\n",
    "import numpy as np\n",
    "import pandas as pd\n",
    "import matplotlib as mpl\n",
    "from matplotlib import pylab as plt\n",
    "import time\n",
    "from tqdm import tqdm\n",
    "from IPython import display\n",
    "\n",
    "# system\n",
    "import os\n",
    "import gc  # Gabage collector interface (to debug stuff)\n",
    "import sys\n",
    "\n",
    "# ml\n",
    "from sklearn.model_selection import train_test_split\n",
    "from sklearn.metrics import mean_squared_error\n",
    "\n",
    "# dl\n",
    "import torch\n",
    "import torch.nn as nn"
   ]
  },
  {
   "cell_type": "code",
   "execution_count": 3,
   "metadata": {},
   "outputs": [
    {
     "name": "stdout",
     "output_type": "stream",
     "text": [
      "CUDA devices available:\n",
      "\tQuadro RTX 4000\twith CUDA capability (7, 5)\n",
      "\tQuadro RTX 4000\twith CUDA capability (7, 5)\n"
     ]
    }
   ],
   "source": [
    "# Test to see if cuda is available or not + listed the CUDA devices that are available\n",
    "try:\n",
    "    assert(torch.cuda.is_available())\n",
    "except:\n",
    "    raise Exception(\"CUDA is not available\")\n",
    "    \n",
    "n_devices = torch.cuda.device_count()\n",
    "print(\"CUDA devices available:\")\n",
    "\n",
    "for i in range(n_devices):\n",
    "    print(\"\\t{}\\twith CUDA capability {}\".format(torch.cuda.get_device_name      (device=i), \n",
    "                                                 torch.cuda.get_device_capability(device=i)))\n",
    "\n",
    "device = torch.device(\"cuda\", 0)"
   ]
  },
  {
   "cell_type": "code",
   "execution_count": 4,
   "metadata": {},
   "outputs": [],
   "source": [
    "# Turn off interactive plotting: for long run it screws up everything\n",
    "plt.ioff()"
   ]
  },
  {
   "cell_type": "code",
   "execution_count": 5,
   "metadata": {},
   "outputs": [],
   "source": [
    "DETECTOR_PARAMS = Parameters(\"SNDatLHC\")\n",
    "DETECTOR_CONFIG = DETECTOR_PARAMS.snd_params[DETECTOR_PARAMS.configuration]\n",
    "\n",
    "# number of planes of the detector\n",
    "#NB_PLANE = dict()\n",
    "\n",
    "#NB_PLANE['scifi']   = len(DETECTOR_CONFIG['SciFi_tracker']        ['TT_POSITIONS'])\n",
    "#NB_PLANE['up_mu']   = len(DETECTOR_CONFIG['Mu_tracker_upstream']  ['TT_POSITIONS'])\n",
    "#NB_PLANE['down_mu'] = len(DETECTOR_CONFIG['Mu_tracker_downstream']['TT_POSITIONS'])"
   ]
  },
  {
   "cell_type": "markdown",
   "metadata": {},
   "source": [
    "## Data processing\n",
    "\n",
    "Here we load and process __pickle__ files. "
   ]
  },
  {
   "cell_type": "code",
   "execution_count": 6,
   "metadata": {},
   "outputs": [],
   "source": [
    "from src.process_pickle import *"
   ]
  },
  {
   "cell_type": "code",
   "execution_count": 7,
   "metadata": {},
   "outputs": [],
   "source": [
    "DATA_PATH = dict()\n",
    "DATA_PATH['nuel']  = \"~/snd_data/nue\"\n",
    "DATA_PATH['numu']  = \"~/snd_data/numu\"\n",
    "DATA_PATH['nutau'] = \"~/snd_data/nutau\"\n",
    "\n",
    "EVENTS_PER_FILE = 4000 # todo -> read from the files ?\n",
    "FILES_NUM       = 8   # MAX=100 / todo -> read from directory ?"
   ]
  },
  {
   "cell_type": "code",
   "execution_count": 8,
   "metadata": {},
   "outputs": [],
   "source": [
    "#scifi_arr, mu_arr, en_arr = load_dataframes(DETECTOR_PARAMS, \n",
    "#                                            DATA_PATH, EVENTS_PER_FILE, FILES_NUM)"
   ]
  },
  {
   "cell_type": "code",
   "execution_count": 9,
   "metadata": {},
   "outputs": [],
   "source": [
    "#scifi_arr, mu_arr, en_arr = merge_events_arrays(scifi_arr, mu_arr, en_arr)"
   ]
  },
  {
   "cell_type": "code",
   "execution_count": 10,
   "metadata": {},
   "outputs": [],
   "source": [
    "#en_arr = normalise_target_energy(en_arr)"
   ]
  },
  {
   "cell_type": "markdown",
   "metadata": {},
   "source": [
    "## Data preparation\n",
    "\n",
    "Here we prepare (load or, if needed, create) the datasets."
   ]
  },
  {
   "cell_type": "code",
   "execution_count": 11,
   "metadata": {},
   "outputs": [],
   "source": [
    "from src.operate_datasets import *"
   ]
  },
  {
   "cell_type": "code",
   "execution_count": 12,
   "metadata": {},
   "outputs": [],
   "source": [
    "#create_dataset('true', DETECTOR_PARAMS, DATA_PATH, EVENTS_PER_FILE, FILES_NUM)"
   ]
  },
  {
   "cell_type": "code",
   "execution_count": 13,
   "metadata": {},
   "outputs": [],
   "source": [
    "#create_dataset('sum', DETECTOR_PARAMS, DATA_PATH, EVENTS_PER_FILE, FILES_NUM)"
   ]
  },
  {
   "cell_type": "code",
   "execution_count": 14,
   "metadata": {},
   "outputs": [],
   "source": [
    "#create_dataset('longitudal', DETECTOR_PARAMS, DATA_PATH, EVENTS_PER_FILE, FILES_NUM)"
   ]
  },
  {
   "cell_type": "code",
   "execution_count": 15,
   "metadata": {},
   "outputs": [],
   "source": [
    "# create_dataset('projection', DETECTOR_PARAMS, DATA_PATH, EVENTS_PER_FILE, FILES_NUM)"
   ]
  },
  {
   "cell_type": "code",
   "execution_count": 16,
   "metadata": {},
   "outputs": [],
   "source": [
    "# memory troubles!\n",
    "# be very carefull when using this\n",
    "### create_dataset('plane', DETECTOR_PARAMS, DATA_PATH)"
   ]
  },
  {
   "cell_type": "code",
   "execution_count": 17,
   "metadata": {},
   "outputs": [
    {
     "name": "stdout",
     "output_type": "stream",
     "text": [
      "mv: cannot stat ‘*.npz’: No such file or directory\r\n"
     ]
    }
   ],
   "source": [
    "# move the new datasets to the right folder\n",
    "# !mv *.npz ../snd_data/d_data/new_dataset/"
   ]
  },
  {
   "cell_type": "markdown",
   "metadata": {},
   "source": [
    "## Models"
   ]
  },
  {
   "cell_type": "markdown",
   "metadata": {},
   "source": [
    "## Run models"
   ]
  },
  {
   "cell_type": "code",
   "execution_count": 19,
   "metadata": {},
   "outputs": [],
   "source": [
    "#!jupyter nbconvert --to notebook --inplace --execute regression_*.ipynb"
   ]
  },
  {
   "cell_type": "code",
   "execution_count": 20,
   "metadata": {},
   "outputs": [],
   "source": [
    "#!jupyter nbconvert --to notebook --inplace --execute nn_*.ipynb --ExecutePreprocessor.timeout=180"
   ]
  },
  {
   "cell_type": "code",
   "execution_count": 21,
   "metadata": {},
   "outputs": [],
   "source": [
    "#!jupyter nbconvert --to notebook --inplace --execute bnn_*.ipynb"
   ]
  },
  {
   "cell_type": "markdown",
   "metadata": {},
   "source": [
    "## Compare metrics"
   ]
  },
  {
   "cell_type": "code",
   "execution_count": 22,
   "metadata": {},
   "outputs": [],
   "source": [
    "from src.model_evaluation import *"
   ]
  },
  {
   "cell_type": "code",
   "execution_count": 23,
   "metadata": {},
   "outputs": [],
   "source": [
    "def present_scores(df):\n",
    "    df = df.reindex(sorted(df.columns), axis=1)\n",
    "    first_col = df.pop('Score')\n",
    "    df.insert(0, 'Score', first_col)\n",
    "\n",
    "    return df"
   ]
  },
  {
   "cell_type": "code",
   "execution_count": 24,
   "metadata": {},
   "outputs": [
    {
     "data": {
      "text/html": [
       "<div>\n",
       "<style scoped>\n",
       "    .dataframe tbody tr th:only-of-type {\n",
       "        vertical-align: middle;\n",
       "    }\n",
       "\n",
       "    .dataframe tbody tr th {\n",
       "        vertical-align: top;\n",
       "    }\n",
       "\n",
       "    .dataframe thead th {\n",
       "        text-align: right;\n",
       "    }\n",
       "</style>\n",
       "<table border=\"1\" class=\"dataframe\">\n",
       "  <thead>\n",
       "    <tr style=\"text-align: right;\">\n",
       "      <th></th>\n",
       "      <th>Score</th>\n",
       "      <th>BNN-on-full-sum</th>\n",
       "      <th>BNN-on-plane-sums</th>\n",
       "      <th>L2-on-full-sum</th>\n",
       "      <th>L2-on-plane-sums</th>\n",
       "      <th>L2-on-projections</th>\n",
       "      <th>L2-on-true-hits</th>\n",
       "      <th>NN-on-full-sum</th>\n",
       "      <th>NN-on-plane-sums</th>\n",
       "      <th>NN-on-projections</th>\n",
       "      <th>NN-on-true-hits</th>\n",
       "    </tr>\n",
       "  </thead>\n",
       "  <tbody>\n",
       "    <tr>\n",
       "      <td>0</td>\n",
       "      <td>explained_variance_score</td>\n",
       "      <td>-0.223233</td>\n",
       "      <td>-0.674410</td>\n",
       "      <td>0.013989</td>\n",
       "      <td>0.279462</td>\n",
       "      <td>0.352173</td>\n",
       "      <td>0.127250</td>\n",
       "      <td>0.041599</td>\n",
       "      <td>0.229696</td>\n",
       "      <td>0.414450</td>\n",
       "      <td>-0.678216</td>\n",
       "    </tr>\n",
       "    <tr>\n",
       "      <td>1</td>\n",
       "      <td>max_error</td>\n",
       "      <td>1.470716</td>\n",
       "      <td>7.644205</td>\n",
       "      <td>0.962614</td>\n",
       "      <td>1.035705</td>\n",
       "      <td>1.083276</td>\n",
       "      <td>0.999070</td>\n",
       "      <td>1.037722</td>\n",
       "      <td>2.581156</td>\n",
       "      <td>1.048289</td>\n",
       "      <td>9.208755</td>\n",
       "    </tr>\n",
       "    <tr>\n",
       "      <td>2</td>\n",
       "      <td>mean_absolute_error</td>\n",
       "      <td>0.149465</td>\n",
       "      <td>0.148487</td>\n",
       "      <td>0.140651</td>\n",
       "      <td>0.113108</td>\n",
       "      <td>0.107232</td>\n",
       "      <td>0.125568</td>\n",
       "      <td>0.127296</td>\n",
       "      <td>0.113745</td>\n",
       "      <td>0.101093</td>\n",
       "      <td>0.142938</td>\n",
       "    </tr>\n",
       "    <tr>\n",
       "      <td>3</td>\n",
       "      <td>mean_squared_error</td>\n",
       "      <td>0.047402</td>\n",
       "      <td>0.053915</td>\n",
       "      <td>0.031907</td>\n",
       "      <td>0.023052</td>\n",
       "      <td>0.020750</td>\n",
       "      <td>0.027922</td>\n",
       "      <td>0.031332</td>\n",
       "      <td>0.024644</td>\n",
       "      <td>0.018756</td>\n",
       "      <td>0.053997</td>\n",
       "    </tr>\n",
       "    <tr>\n",
       "      <td>4</td>\n",
       "      <td>median_absolute_error</td>\n",
       "      <td>0.097231</td>\n",
       "      <td>0.117582</td>\n",
       "      <td>0.127065</td>\n",
       "      <td>0.092548</td>\n",
       "      <td>0.087339</td>\n",
       "      <td>0.107848</td>\n",
       "      <td>0.099727</td>\n",
       "      <td>0.090105</td>\n",
       "      <td>0.081676</td>\n",
       "      <td>0.102430</td>\n",
       "    </tr>\n",
       "    <tr>\n",
       "      <td>5</td>\n",
       "      <td>r2_score</td>\n",
       "      <td>-0.481636</td>\n",
       "      <td>-0.685225</td>\n",
       "      <td>0.002681</td>\n",
       "      <td>0.279462</td>\n",
       "      <td>0.352172</td>\n",
       "      <td>0.127250</td>\n",
       "      <td>0.020647</td>\n",
       "      <td>0.229695</td>\n",
       "      <td>0.414425</td>\n",
       "      <td>-0.687800</td>\n",
       "    </tr>\n",
       "    <tr>\n",
       "      <td>6</td>\n",
       "      <td>avg_resolution</td>\n",
       "      <td>1.007727</td>\n",
       "      <td>2.125408</td>\n",
       "      <td>2.375080</td>\n",
       "      <td>1.498581</td>\n",
       "      <td>1.400614</td>\n",
       "      <td>1.872374</td>\n",
       "      <td>1.554206</td>\n",
       "      <td>1.391067</td>\n",
       "      <td>1.315607</td>\n",
       "      <td>1.504756</td>\n",
       "    </tr>\n",
       "    <tr>\n",
       "      <td>7</td>\n",
       "      <td>std_resolution</td>\n",
       "      <td>6.966440</td>\n",
       "      <td>7.877072</td>\n",
       "      <td>8.835667</td>\n",
       "      <td>5.833365</td>\n",
       "      <td>5.602714</td>\n",
       "      <td>7.319886</td>\n",
       "      <td>6.038526</td>\n",
       "      <td>5.307643</td>\n",
       "      <td>5.473247</td>\n",
       "      <td>5.846328</td>\n",
       "    </tr>\n",
       "  </tbody>\n",
       "</table>\n",
       "</div>"
      ],
      "text/plain": [
       "                      Score  BNN-on-full-sum  BNN-on-plane-sums  \\\n",
       "0  explained_variance_score        -0.223233          -0.674410   \n",
       "1                 max_error         1.470716           7.644205   \n",
       "2       mean_absolute_error         0.149465           0.148487   \n",
       "3        mean_squared_error         0.047402           0.053915   \n",
       "4     median_absolute_error         0.097231           0.117582   \n",
       "5                  r2_score        -0.481636          -0.685225   \n",
       "6            avg_resolution         1.007727           2.125408   \n",
       "7            std_resolution         6.966440           7.877072   \n",
       "\n",
       "   L2-on-full-sum  L2-on-plane-sums  L2-on-projections  L2-on-true-hits  \\\n",
       "0        0.013989          0.279462           0.352173         0.127250   \n",
       "1        0.962614          1.035705           1.083276         0.999070   \n",
       "2        0.140651          0.113108           0.107232         0.125568   \n",
       "3        0.031907          0.023052           0.020750         0.027922   \n",
       "4        0.127065          0.092548           0.087339         0.107848   \n",
       "5        0.002681          0.279462           0.352172         0.127250   \n",
       "6        2.375080          1.498581           1.400614         1.872374   \n",
       "7        8.835667          5.833365           5.602714         7.319886   \n",
       "\n",
       "   NN-on-full-sum  NN-on-plane-sums  NN-on-projections  NN-on-true-hits  \n",
       "0        0.041599          0.229696           0.414450        -0.678216  \n",
       "1        1.037722          2.581156           1.048289         9.208755  \n",
       "2        0.127296          0.113745           0.101093         0.142938  \n",
       "3        0.031332          0.024644           0.018756         0.053997  \n",
       "4        0.099727          0.090105           0.081676         0.102430  \n",
       "5        0.020647          0.229695           0.414425        -0.687800  \n",
       "6        1.554206          1.391067           1.315607         1.504756  \n",
       "7        6.038526          5.307643           5.473247         5.846328  "
      ]
     },
     "execution_count": 24,
     "metadata": {},
     "output_type": "execute_result"
    }
   ],
   "source": [
    "present_scores(collect_all_scores())"
   ]
  },
  {
   "cell_type": "code",
   "execution_count": 25,
   "metadata": {},
   "outputs": [
    {
     "data": {
      "text/html": [
       "<div>\n",
       "<style scoped>\n",
       "    .dataframe tbody tr th:only-of-type {\n",
       "        vertical-align: middle;\n",
       "    }\n",
       "\n",
       "    .dataframe tbody tr th {\n",
       "        vertical-align: top;\n",
       "    }\n",
       "\n",
       "    .dataframe thead th {\n",
       "        text-align: right;\n",
       "    }\n",
       "</style>\n",
       "<table border=\"1\" class=\"dataframe\">\n",
       "  <thead>\n",
       "    <tr style=\"text-align: right;\">\n",
       "      <th></th>\n",
       "      <th>Score</th>\n",
       "      <th>BNN-on-full-sum</th>\n",
       "      <th>BNN-on-plane-sums</th>\n",
       "      <th>L2-on-full-sum</th>\n",
       "      <th>L2-on-plane-sums</th>\n",
       "      <th>L2-on-projections</th>\n",
       "      <th>L2-on-true-hits</th>\n",
       "      <th>NN-on-full-sum</th>\n",
       "      <th>NN-on-plane-sums</th>\n",
       "      <th>NN-on-projections</th>\n",
       "      <th>NN-on-true-hits</th>\n",
       "    </tr>\n",
       "  </thead>\n",
       "  <tbody>\n",
       "    <tr>\n",
       "      <td>0</td>\n",
       "      <td>explained_variance_score</td>\n",
       "      <td>-0.379093</td>\n",
       "      <td>-0.231031</td>\n",
       "      <td>0.015207</td>\n",
       "      <td>0.277664</td>\n",
       "      <td>0.337756</td>\n",
       "      <td>0.130124</td>\n",
       "      <td>0.046824</td>\n",
       "      <td>0.206026</td>\n",
       "      <td>0.400336</td>\n",
       "      <td>-0.626790</td>\n",
       "    </tr>\n",
       "    <tr>\n",
       "      <td>1</td>\n",
       "      <td>max_error</td>\n",
       "      <td>1.799817</td>\n",
       "      <td>3.049016</td>\n",
       "      <td>0.907420</td>\n",
       "      <td>0.856899</td>\n",
       "      <td>0.805914</td>\n",
       "      <td>0.894357</td>\n",
       "      <td>0.943051</td>\n",
       "      <td>2.518444</td>\n",
       "      <td>0.772028</td>\n",
       "      <td>3.027048</td>\n",
       "    </tr>\n",
       "    <tr>\n",
       "      <td>2</td>\n",
       "      <td>mean_absolute_error</td>\n",
       "      <td>0.156494</td>\n",
       "      <td>0.142660</td>\n",
       "      <td>0.140498</td>\n",
       "      <td>0.113324</td>\n",
       "      <td>0.107791</td>\n",
       "      <td>0.125348</td>\n",
       "      <td>0.126676</td>\n",
       "      <td>0.114243</td>\n",
       "      <td>0.101947</td>\n",
       "      <td>0.142334</td>\n",
       "    </tr>\n",
       "    <tr>\n",
       "      <td>3</td>\n",
       "      <td>mean_squared_error</td>\n",
       "      <td>0.052074</td>\n",
       "      <td>0.039410</td>\n",
       "      <td>0.031751</td>\n",
       "      <td>0.023037</td>\n",
       "      <td>0.020905</td>\n",
       "      <td>0.027743</td>\n",
       "      <td>0.031105</td>\n",
       "      <td>0.025322</td>\n",
       "      <td>0.018928</td>\n",
       "      <td>0.052131</td>\n",
       "    </tr>\n",
       "    <tr>\n",
       "      <td>4</td>\n",
       "      <td>median_absolute_error</td>\n",
       "      <td>0.103110</td>\n",
       "      <td>0.117356</td>\n",
       "      <td>0.126730</td>\n",
       "      <td>0.092459</td>\n",
       "      <td>0.087961</td>\n",
       "      <td>0.107367</td>\n",
       "      <td>0.098450</td>\n",
       "      <td>0.089956</td>\n",
       "      <td>0.081414</td>\n",
       "      <td>0.101540</td>\n",
       "    </tr>\n",
       "    <tr>\n",
       "      <td>5</td>\n",
       "      <td>r2_score</td>\n",
       "      <td>-0.632817</td>\n",
       "      <td>-0.235732</td>\n",
       "      <td>0.004419</td>\n",
       "      <td>0.277664</td>\n",
       "      <td>0.337663</td>\n",
       "      <td>0.130113</td>\n",
       "      <td>0.024685</td>\n",
       "      <td>0.206012</td>\n",
       "      <td>0.400277</td>\n",
       "      <td>-0.634606</td>\n",
       "    </tr>\n",
       "    <tr>\n",
       "      <td>6</td>\n",
       "      <td>avg_resolution</td>\n",
       "      <td>1.011794</td>\n",
       "      <td>2.000125</td>\n",
       "      <td>2.247229</td>\n",
       "      <td>1.406165</td>\n",
       "      <td>1.324153</td>\n",
       "      <td>1.769530</td>\n",
       "      <td>1.462980</td>\n",
       "      <td>1.309330</td>\n",
       "      <td>1.259710</td>\n",
       "      <td>1.421161</td>\n",
       "    </tr>\n",
       "    <tr>\n",
       "      <td>7</td>\n",
       "      <td>std_resolution</td>\n",
       "      <td>5.333859</td>\n",
       "      <td>5.988438</td>\n",
       "      <td>6.652317</td>\n",
       "      <td>4.396246</td>\n",
       "      <td>4.061178</td>\n",
       "      <td>5.507832</td>\n",
       "      <td>4.691659</td>\n",
       "      <td>4.100527</td>\n",
       "      <td>4.007199</td>\n",
       "      <td>4.610855</td>\n",
       "    </tr>\n",
       "  </tbody>\n",
       "</table>\n",
       "</div>"
      ],
      "text/plain": [
       "                      Score  BNN-on-full-sum  BNN-on-plane-sums  \\\n",
       "0  explained_variance_score        -0.379093          -0.231031   \n",
       "1                 max_error         1.799817           3.049016   \n",
       "2       mean_absolute_error         0.156494           0.142660   \n",
       "3        mean_squared_error         0.052074           0.039410   \n",
       "4     median_absolute_error         0.103110           0.117356   \n",
       "5                  r2_score        -0.632817          -0.235732   \n",
       "6            avg_resolution         1.011794           2.000125   \n",
       "7            std_resolution         5.333859           5.988438   \n",
       "\n",
       "   L2-on-full-sum  L2-on-plane-sums  L2-on-projections  L2-on-true-hits  \\\n",
       "0        0.015207          0.277664           0.337756         0.130124   \n",
       "1        0.907420          0.856899           0.805914         0.894357   \n",
       "2        0.140498          0.113324           0.107791         0.125348   \n",
       "3        0.031751          0.023037           0.020905         0.027743   \n",
       "4        0.126730          0.092459           0.087961         0.107367   \n",
       "5        0.004419          0.277664           0.337663         0.130113   \n",
       "6        2.247229          1.406165           1.324153         1.769530   \n",
       "7        6.652317          4.396246           4.061178         5.507832   \n",
       "\n",
       "   NN-on-full-sum  NN-on-plane-sums  NN-on-projections  NN-on-true-hits  \n",
       "0        0.046824          0.206026           0.400336        -0.626790  \n",
       "1        0.943051          2.518444           0.772028         3.027048  \n",
       "2        0.126676          0.114243           0.101947         0.142334  \n",
       "3        0.031105          0.025322           0.018928         0.052131  \n",
       "4        0.098450          0.089956           0.081414         0.101540  \n",
       "5        0.024685          0.206012           0.400277        -0.634606  \n",
       "6        1.462980          1.309330           1.259710         1.421161  \n",
       "7        4.691659          4.100527           4.007199         4.610855  "
      ]
     },
     "execution_count": 25,
     "metadata": {},
     "output_type": "execute_result"
    }
   ],
   "source": [
    "present_scores(collect_all_scores(TEST_SCORES_DIR))"
   ]
  },
  {
   "cell_type": "code",
   "execution_count": 18,
   "metadata": {},
   "outputs": [
    {
     "data": {
      "text/plain": [
       "\"\\nfull_X, full_y = load_dataset('~/snd_data/new_dataset/', 'longitudal')\\n\\nX_train, y_train, _, _ = split_dataset(full_X, full_y)\\n# min_clip = 25\\n# X_train, y_train = clip_dataset(X_train, y_train, min_clip)\\n\\n\\nfrom sklearn import svm\\n\\nreg_svr = svm.SVR(gamma='scale')\\n#reg_svr = svm.LinearSVR(max_iter=10**5)\\n\\nreg_svr.fit(X_train, y_train)\\n\\nscore_svr = reg_svr.score(X_train, y_train)\\n\\nprint('SVM: ', score_svr)\\n\\ny_pred_svr = reg_svr.predict(X_train)\\n\\nX_sum = X_train.sum(axis=1).reshape(-1,1)\\ny_sum = y_train.reshape(-1,1)\\ny_pred_svr = y_pred_svr.reshape(-1,1)\\n\\n\\nplot_res_vs_energy(X_sum, y_sum, y_pred_svr) \\nplot_res_hist(y_sum, y_pred_svr)\\nplot_2d_energy_hist(X_sum, y_sum, y_pred_svr)\\nget_scores(y_sum, y_pred_svr)\\n\""
      ]
     },
     "execution_count": 18,
     "metadata": {},
     "output_type": "execute_result"
    }
   ],
   "source": [
    "# Support Vector Regression (SVR)\n",
    "\n",
    "'''\n",
    "full_X, full_y = load_dataset('~/snd_data/new_dataset/', 'longitudal')\n",
    "\n",
    "X_train, y_train, _, _ = split_dataset(full_X, full_y)\n",
    "# min_clip = 25\n",
    "# X_train, y_train = clip_dataset(X_train, y_train, min_clip)\n",
    "\n",
    "\n",
    "from sklearn import svm\n",
    "\n",
    "reg_svr = svm.SVR(gamma='scale')\n",
    "#reg_svr = svm.LinearSVR(max_iter=10**5)\n",
    "\n",
    "reg_svr.fit(X_train, y_train)\n",
    "\n",
    "score_svr = reg_svr.score(X_train, y_train)\n",
    "\n",
    "print('SVM: ', score_svr)\n",
    "\n",
    "y_pred_svr = reg_svr.predict(X_train)\n",
    "\n",
    "X_sum = X_train.sum(axis=1).reshape(-1,1)\n",
    "y_sum = y_train.reshape(-1,1)\n",
    "y_pred_svr = y_pred_svr.reshape(-1,1)\n",
    "\n",
    "\n",
    "plot_res_vs_energy(X_sum, y_sum, y_pred_svr) \n",
    "plot_res_hist(y_sum, y_pred_svr)\n",
    "plot_2d_energy_hist(X_sum, y_sum, y_pred_svr)\n",
    "get_scores(y_sum, y_pred_svr)\n",
    "'''"
   ]
  }
 ],
 "metadata": {
  "kernelspec": {
   "display_name": "Python 3",
   "language": "python",
   "name": "python3"
  },
  "language_info": {
   "codemirror_mode": {
    "name": "ipython",
    "version": 3
   },
   "file_extension": ".py",
   "mimetype": "text/x-python",
   "name": "python",
   "nbconvert_exporter": "python",
   "pygments_lexer": "ipython3",
   "version": "3.7.4"
  }
 },
 "nbformat": 4,
 "nbformat_minor": 4
}
